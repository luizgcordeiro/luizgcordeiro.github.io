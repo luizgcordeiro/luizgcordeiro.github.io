{
 "cells": [
  {
   "cell_type": "markdown",
   "id": "d38d8417",
   "metadata": {},
   "source": [
    "# CLRS - *Introduction to Algorithms*, 4<sup>th</sup> edition"
   ]
  },
  {
   "cell_type": "code",
   "execution_count": null,
   "id": "f67511e8-6688-45d2-969e-91a48b62ffef",
   "metadata": {},
   "outputs": [],
   "source": [
    "## Chapter 1 - The Role of Algorithms in Computing"
   ]
  },
  {
   "cell_type": "markdown",
   "id": "c3facc5a",
   "metadata": {},
   "source": [
    "### 1.1 Algorithms"
   ]
  },
  {
   "cell_type": "markdown",
   "id": "710c1d8c",
   "metadata": {},
   "source": [
    "#### 1.1-1\n",
    "\n",
    "> Describe your own real-world example that requires sorting. Describe one that requires finding the shortest distance between two points.\n",
    "\n",
    "Sorting clothes by color and/or size before washing. Choosing a route to go to work (or on a trip)."
   ]
  },
  {
   "cell_type": "markdown",
   "id": "271369c6",
   "metadata": {},
   "source": [
    "#### 1.1-2\n",
    "\n",
    "> Other than speed, what other measures of efficiency might you need to consider in\n",
    "a real-world setting?\n",
    "\n",
    "Cost, precision, ease-of-use, memory consumption."
   ]
  },
  {
   "cell_type": "markdown",
   "id": "0437b05b",
   "metadata": {},
   "source": [
    "#### 1.1-3\n",
    "\n",
    "> Select a data structure that you have seen, and discuss its strengths and limitations.\n",
    "\n",
    "Array:\n",
    "\n",
    "- Strength: Easy to access random elements.\n",
    "- Limitation: Needs reallocation for resizing.\n",
    "\n",
    "(Linked list has precisely the opposite strength and limitation.)"
   ]
  },
  {
   "cell_type": "markdown",
   "id": "1707f3d3",
   "metadata": {},
   "source": [
    "#### 1.1-4\n",
    "\n",
    "> How are the shortest-path and the traveling-salesman problems given above similar? How are they different?\n",
    "\n",
    "Both problems ask us to find shortest paths in a graph with certain properties.\n",
    "\n",
    "- The shortest-path problem asks for a path that passes through two points. So in the best case cenario it would consist of a single edge.\n",
    "- The traveling-salesman problem looks for a path that passes through all vertices of the graph (and goes back to the beginning). So in the best case cenario it would have length equal to the number of vertices in the graph."
   ]
  },
  {
   "cell_type": "markdown",
   "id": "5a614f3a",
   "metadata": {},
   "source": [
    "#### 1.1-5\n",
    "\n",
    "> Suggest a real-world problem in which only the best solution will do. Then come up with one in which \\\"approximately\\\" the best solution is good enough.\n",
    "\n",
    "Only the best solution will do for the problem of finding someone's phone number (say to give some important information).\n",
    "\n",
    "An \\\"approximately best\\\" solution will do for the problem of finding the shortest path from home to work."
   ]
  },
  {
   "cell_type": "markdown",
   "id": "d211e2b9",
   "metadata": {},
   "source": [
    "#### 1.1-6\n",
    "\n",
    "> Describe a real-world problem in which sometimes the entire input is available before you need to solve the problem, but other times the input is not entirely available in advance and arrives over time.\n",
    "\n",
    "The problem of allocating customers to tables in a restaurant. If enough reservations were made in advance, so that the restaurant is full, then the whole input (numbers of groups and their sizes) is available beforehand. If there are free tables, customers need to be allocated to tables as they come in."
   ]
  }
 ],
 "metadata": {
  "kernelspec": {
   "display_name": "C",
   "language": "c",
   "name": "c"
  },
  "language_info": {
   "file_extension": ".c",
   "mimetype": "text/x-csrc",
   "name": "text/x-csrc"
  }
 },
 "nbformat": 4,
 "nbformat_minor": 5
}
