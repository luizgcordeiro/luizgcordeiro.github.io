{
 "cells": [
  {
   "cell_type": "markdown",
   "id": "4a350b7d-210c-4a36-87a2-326ae9e028fb",
   "metadata": {},
   "source": [
    "# 2.2 Analyzing algorithms"
   ]
  },
  {
   "cell_type": "markdown",
   "id": "9a714173-7d21-4e7e-a15a-1b6077519ef7",
   "metadata": {},
   "source": [
    "## 2.2-1\n",
    "\n",
    "> Express the function $n^3/1000 + 100n^2 - 100n +3$ in terms of $\\Theta$-notation."
   ]
  },
  {
   "cell_type": "markdown",
   "id": "81b91ec8-9c5f-4a07-8d19-99716f781927",
   "metadata": {},
   "source": [
    "$\\Theta(n^3)$."
   ]
  },
  {
   "cell_type": "markdown",
   "id": "ca593868-fc09-4572-b919-f5a863476dc8",
   "metadata": {},
   "source": [
    "(exercise2.2-2)=\n",
    "## 2.2-2 <span id=\"exercise_2.2-2\"></span>\n",
    "\n",
    "> Consider sorting $n$ numbers stored in array $A[1:n]$ by first finding the smallest element of $A[1:n]$ and exchanging it with the element in $A[1]$. Then find the smallest element of $A[2:n]$, and exchange it with $A[2]$. Then find the smallest element of $A[3:n]$, and exchange it with $A[3]$. Continue in this manner for the first $n-1$ elements of $A$. Write pseudocode for this algorithm, which is known as ***selection sort***. What loop invariant does this algorithm maintain? Why does it need  to run for only the first $n-1$ elements, rather than for all $n$ elements? Give the worst-case running times of selection sort in $\\Theta$-notation. Is the best-case running time any better?"
   ]
  },
  {
   "cell_type": "markdown",
   "id": "dfe69586-441d-43b0-81bd-6669afdda9b1",
   "metadata": {},
   "source": [
    "(We ignore individual line cost)\n",
    "\n",
    "    SELECTION-SORT(A)                           Times ran\n",
    "    1   for j=1 to n-1                          n\n",
    "    2       //Working with subarray A[j:n]\n",
    "            //Need to find the smallest element\n",
    "    3       min_index=j                         n-1\n",
    "    4       for i=j+1 to n                      sum from j=1 to n-1 of (n-j+1)\n",
    "    5           if A[i]<A[min_index]            sum from j=1 to n-1 of (n-j)\n",
    "    6               min_index=i                 sum from j=1 to n-1 of\n",
    "                                                    sum from i=j+1 to n of\n",
    "                                                    0 or 1\n",
    "    7    Swap A[j] and A[min_index]             n-1\n",
    "\n",
    "The cost changes accordingly to how many times each line is ran. Line 6 has a (possibly) quadratic cost, whereas the other lines have a linear or quadratic cost.\n",
    "\n",
    "- **Best case for line 6**: Cost $0$.\n",
    "- **Worst case for line 6**: Cost $\\sum_{j=1}^{n-1}(n-j) = (n-1)n/2$.\n",
    "\n",
    "So line 6, the only one that has any variation, will be the one that controls the best- and worst- case cenarios. In both of them, the quadratic terms in lines 4 and 5 will control the order of growth, which in any case will be quadratic, that is, $\\Theta(n^2)$.\n",
    "\n",
    "- **Loop invariant**: At the start of the $j$-th iteration, the $j-1$ smallest elements of $A$ appear sorted in the $j-1$ first entries of $A$.\n",
    "\n",
    "It needs only to run up to $j=n-1$ because, as the loop invariant states, at its end the $n-1$ smallest elements of $A$ will appear sorted in the first $n-1$ first entries of $A$. The remaining element will appear in the $n$-th entry of $A$, and it will not be any of the $n-1$ smallest ones, so it will necessarily be the $n$-th smallest one, i.e., the largest element of $A$. This clearly makes it so that $A$ is already sorted.\n",
    "\n",
    "As previously noted, both the best- and worst-case cenarios have quadratic cost, i.e., $\\Theta(n^2)$. The worst-case running time is not any better than the best-case running time (in $\\Theta$-notation)."
   ]
  },
  {
   "cell_type": "markdown",
   "id": "f78b520c-8a04-45ab-818e-5e82e1a30288",
   "metadata": {},
   "source": [
    "## 2.2-3\n",
    "\n",
    "> Consider linear seach again (see Exercise 2.1-4). How many elements of the input sequence need to be checked on the average, assuming that the element being searched for is equally likely to be any element in the array? How about in the worst case? Using $\\Theta$-notation, give the average-case and worst-case running times of linear search? Justify your answers."
   ]
  },
  {
   "cell_type": "markdown",
   "id": "af2a9fec-a12e-4b39-ae97-1c6857c3b55f",
   "metadata": {},
   "source": [
    "Recall the pseudocode:\n",
    "\n",
    "    LINEAR-SEARCH(A,n,x)\n",
    "    1   for j=1 to n\n",
    "    2       if x=A[j]\n",
    "    3           return j\n",
    "    4   return NIL\n",
    "\n",
    "No info was given for unsuccessful searches, so we assume an array of size $n$ and a successful search from now on.\n",
    "\n",
    "The number of elements in the input sequence which are checked when the value is in the $i$-th position is $i$, and this happens in a fraction of $1/n$ of all cases. Thus, on average, the number of elements of the input sequence which are checked is\n",
    "\\begin{equation*}\\sum_{i=1}^n\\dfrac{1}{n}i=\\dfrac{n+1}{2}.\\end{equation*}\n",
    "\n",
    "In the worst case (which happens both for an unsuccessful search and when the value being searched for is in the last position), all of the $n$ elements of the input sequence are checked against the element which is being searched for.\n",
    "\n",
    "In any case, notice that the running time of `LINEAR-SEARCH` is equivalent to the number of elements of the input sequence which are checked, so both the average- and worst-case running times are $\\Theta(n)$."
   ]
  },
  {
   "cell_type": "markdown",
   "id": "cd5201a3-5e6f-4b29-a968-6574e81e02cb",
   "metadata": {},
   "source": [
    "## 2.2-4\n",
    "\n",
    "> How can you modify any sorting algorithm to have a good best-case running time?"
   ]
  },
  {
   "cell_type": "markdown",
   "id": "82e40826-e9ac-41b7-bf97-46707859f9a0",
   "metadata": {},
   "source": [
    "Simply treat any particular case with a well-known answer separately at the beginning of the algorithm. As long as the checking if the input is in the particular case and if computing the answer in this particular case can be done in a good running time, this will yield an improved best-case running time for the overall algorithm.\n",
    "\n",
    "For example, we can check if an array is sorted in linear time (faster than the worst case of any sorting algorithm; see Theorem 8.1):\n",
    "\n",
    "    IS_SORTED(A,n)\n",
    "    1   for i=1 to n-1\n",
    "    2       if A[i]>A[i+1]\n",
    "    3           return FALSE\n",
    "    4   return TRUE\n",
    "\n",
    "Then, given any sorting algorithm `SORT(A,n)`, we can first check if the sequence $A$ is already sorted and, if this is the case, simply return the input array as-is. This makes it so that the best-case running time becomes linear, which is certainly better than the worst case (as Theorem 8.1 states). The modified algorithm would thus have the form.\n",
    "\n",
    "    SORT_IMPROVED(A,n)\n",
    "    1   if IS_SORTED(A,n)\n",
    "    2       return\n",
    "    3   SORT(A,n)"
   ]
  }
 ],
 "metadata": {
  "kernelspec": {
   "display_name": "C",
   "language": "c",
   "name": "c"
  },
  "language_info": {
   "file_extension": ".c",
   "mimetype": "text/x-csrc",
   "name": "text/x-csrc"
  }
 },
 "nbformat": 4,
 "nbformat_minor": 5
}
