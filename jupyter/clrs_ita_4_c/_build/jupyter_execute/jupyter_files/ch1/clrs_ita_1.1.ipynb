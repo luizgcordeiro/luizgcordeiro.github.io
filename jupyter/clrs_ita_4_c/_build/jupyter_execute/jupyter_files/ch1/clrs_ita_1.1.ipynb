{
 "cells": [
  {
   "cell_type": "markdown",
   "id": "5f9111ce-f201-42ab-944a-ca576845957f",
   "metadata": {},
   "source": [
    "# 1.1 Algorithms"
   ]
  },
  {
   "cell_type": "markdown",
   "id": "29deccb1-65d0-48fe-b9aa-a14c62d475f4",
   "metadata": {},
   "source": [
    "(1.1-1)=\n",
    "## 1.1-1\n",
    "\n",
    "> Describe your own real-world example that requires sorting. Describe one that requires finding the shortest distance between two points."
   ]
  },
  {
   "cell_type": "markdown",
   "id": "6dc440b4-07ab-47d2-a992-78740036db0b",
   "metadata": {},
   "source": [
    "Sorting clothes by color and/or size before washing. Choosing a route to go to work (or on a trip)."
   ]
  },
  {
   "cell_type": "markdown",
   "id": "aea7541e-c220-4bc9-8c64-74c837872785",
   "metadata": {},
   "source": [
    "## 1.1-2\n",
    "\n",
    "> Other than speed, what other measures of efficiency might you need to consider in\n",
    "a real-world setting?"
   ]
  },
  {
   "cell_type": "markdown",
   "id": "89be070e-3a61-4ca0-87ef-1e8f249a6d17",
   "metadata": {},
   "source": [
    "Cost, precision, ease-of-use, memory consumption."
   ]
  },
  {
   "cell_type": "markdown",
   "id": "f42d7578-4150-4330-b4ab-55847cd90ade",
   "metadata": {},
   "source": [
    "## 1.1-3\n",
    "\n",
    "> Select a data structure that you have seen, and discuss its strengths and limitations."
   ]
  },
  {
   "cell_type": "markdown",
   "id": "4389ecc1-7253-4299-bb74-ce5e113f4f95",
   "metadata": {},
   "source": [
    "Array:\n",
    "\n",
    "- Strength: Easy to access random elements.\n",
    "- Limitation: Needs reallocation for resizing.\n",
    "\n",
    "(Linked list has precisely the opposite strength and limitation.)"
   ]
  },
  {
   "cell_type": "markdown",
   "id": "e4d99004-ae03-4d5e-8705-5c5d22c6c0b7",
   "metadata": {},
   "source": [
    "## 1.1-4\n",
    "\n",
    "> How are the shortest-path and the traveling-salesman problems given above similar? How are they different?"
   ]
  },
  {
   "cell_type": "markdown",
   "id": "7cf78a6b-cf71-4fc2-9df5-9ca923fadbd0",
   "metadata": {},
   "source": [
    "Both problems ask us to find shortest paths in a graph with certain properties.\n",
    "\n",
    "- The shortest-path problem asks for a path that passes through two points. So in the best case cenario it would consist of a single edge.\n",
    "- The traveling-salesman problem looks for a path that passes through all vertices of the graph (and goes back to the beginning). So in the best case cenario it would have length equal to the number of vertices in the graph."
   ]
  },
  {
   "cell_type": "markdown",
   "id": "edbe3acd-dc9a-4466-b1e5-b6dba81cc58a",
   "metadata": {},
   "source": [
    "## 1.1-5\n",
    "\n",
    "> Suggest a real-world problem in which only the best solution will do. Then come up with one in which \\\"approximately\\\" the best solution is good enough."
   ]
  },
  {
   "cell_type": "markdown",
   "id": "f60bc99a-310b-4615-860a-64dde67b5ef7",
   "metadata": {},
   "source": [
    "Only the best solution will do for the problem of finding someone's phone number (say to give some important information).\n",
    "\n",
    "An \\\"approximately best\\\" solution will do for the problem of finding the shortest path from home to work."
   ]
  },
  {
   "cell_type": "markdown",
   "id": "fad9b84f-e54f-448a-a5c0-87444ac35aac",
   "metadata": {},
   "source": [
    "## 1.1-6\n",
    "\n",
    "> Describe a real-world problem in which sometimes the entire input is available before you need to solve the problem, but other times the input is not entirely available in advance and arrives over time."
   ]
  },
  {
   "cell_type": "markdown",
   "id": "ea1cea17-2dc8-436b-bf8a-46ca22994de3",
   "metadata": {},
   "source": [
    "The problem of allocating customers to tables in a restaurant. If enough reservations were made in advance, so that the restaurant is full, then the whole input (numbers of groups and their sizes) is available beforehand. If there are free tables, customers need to be allocated to tables as they come in."
   ]
  }
 ],
 "metadata": {
  "kernelspec": {
   "display_name": "C",
   "language": "c",
   "name": "c"
  },
  "language_info": {
   "file_extension": ".c",
   "mimetype": "text/x-csrc",
   "name": "text/x-csrc"
  }
 },
 "nbformat": 4,
 "nbformat_minor": 5
}