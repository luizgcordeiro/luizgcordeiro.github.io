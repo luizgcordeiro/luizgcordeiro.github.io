{
 "cells": [
  {
   "cell_type": "markdown",
   "id": "5ae7e25f-de4b-4e0f-bad1-631f05322c49",
   "metadata": {},
   "source": [
    "# 3.1 $O$-notation, $\\Omega$-notation, and $\\Theta$-notation"
   ]
  },
  {
   "cell_type": "markdown",
   "id": "5a119f5d-8c0e-4820-b5dc-f7f60bc9a2e5",
   "metadata": {},
   "source": [
    "## 3.1-1\n",
    "\n",
    "> Modify the lower-bound argument for insertion sort to handle input sizes that are not necessarily a multiple of 3."
   ]
  },
  {
   "cell_type": "markdown",
   "id": "7ee3851b-856b-4f2f-86c7-6c9da9c66f61",
   "metadata": {},
   "source": [
    "To clarify, the argument in the book only shows that if $n$ is a multiple of $3$, then there is an input of size $n$ for `INSERTION-SORT` which requires at least $\\dfrac{n^2}{9}$ variable assignemnts. As we assume that the operation os variables assignment has a constant cost $c$ (in time), independent of $n$, this makes it so that running time of each of these inputs is at least $c\\cdot\\dfrac{n^2}{2}$.\n",
    "\n",
    "However, the general case was already dealt with - and in fact we may argue that in an even better manner than this case dealing with multiples of 3 - in Section 2.2, where it was shown that if an array $A$ of arbitrary size $n$ is reversely ordered, such as $A=[n,n-1,\\ldots,2,1]$, then the running time for `INSERTION-SORT` with $A$ as input is a quadratic function of $n$. In fact, in this case we can verify that line 6 of `INSERTION-SORT` is ran\n",
    "\\begin{equation*}\\sum_{i=2}^n\\sum_{j=1}^{i-1}1=\\dfrac{(n-1)n}{2}\\end{equation*}\n",
    "times."
   ]
  },
  {
   "cell_type": "markdown",
   "id": "d70864f7-20c8-41cb-b717-08e765a07c04",
   "metadata": {},
   "source": [
    "## 3.1-2\n",
    "\n",
    "> Using reasoning similar to what we used for insertion sort, analyze the running time of the selection sort algorithm from [Exercise 2.2-2](exercise2.2-2)."
   ]
  },
  {
   "cell_type": "markdown",
   "id": "426fda2c-bfb3-4675-bc21-bf605aaa7878",
   "metadata": {},
   "source": [
    "This was already done in the very solution to [Exercise 2.2-2](exercise2.2-2)., where we saw that insertion sort actually always runs on time $\\Theta(n^2)$ (both in the best and worst cases)."
   ]
  },
  {
   "cell_type": "markdown",
   "id": "f419ba68-7ccf-49d4-9a7c-c6733a020c16",
   "metadata": {},
   "source": [
    "## 3.1-3\n",
    "\n",
    "> Suppose that $\\alpha$ is a fraction in the range $0 < \\alpha < 1$. Show how to generalize the lower-bound argument for insertion sort to consider an input in which the $\\alpha n$ largest values start in the first $\\alpha n$ positions. What additional restriction do you need to put on $\\alpha$? What value of $\\alpha$ maximizes the number of times that the $\\alpha n$ largest values must pass through each of the middle $(1-2\\alpha)n$ array positions?"
   ]
  },
  {
   "cell_type": "markdown",
   "id": "31985b92-c2bf-4d69-8186-3a6b87fc5257",
   "metadata": {},
   "source": [
    "For the generalization, note that each of the $\\alpha n$ largest values will pass through the $(1-2\\alpha)n$ middle values, which will take time proportional to\n",
    "\\begin{equation*}\\alpha n (1-2\\alpha) n = (\\alpha(1-2\\alpha))n^2,\\end{equation*}\n",
    "which is $\\Theta(n^2)$.\n",
    "\n",
    "For this argument to work, we need to assume that $\\alpha\\leq 1/2$ (otherwise there are no \"middle\" array positions), as well as $\\alpha n$ being an integer.\n",
    "\n",
    "The number $(\\alpha(1-2\\alpha))n^2$ is maximized when $\\alpha=1/4$, with its value being $n^2/8$. (Note that this calculation disregards the movements inside each block of size $\\alpha n$, as well as the moves of elements which do not start in the first $\\alpha n$ positions of the array.)"
   ]
  }
 ],
 "metadata": {
  "kernelspec": {
   "display_name": "C",
   "language": "c",
   "name": "c"
  },
  "language_info": {
   "file_extension": ".c",
   "mimetype": "text/x-csrc",
   "name": "text/x-csrc"
  }
 },
 "nbformat": 4,
 "nbformat_minor": 5
}