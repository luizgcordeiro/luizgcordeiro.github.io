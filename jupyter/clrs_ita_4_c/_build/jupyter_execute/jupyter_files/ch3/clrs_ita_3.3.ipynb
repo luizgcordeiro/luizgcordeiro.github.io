{
 "cells": [
  {
   "cell_type": "markdown",
   "id": "96f8ef70-3261-43b1-a9d6-806482ef32b0",
   "metadata": {},
   "source": [
    "# 3.3 Standard notations and common functions"
   ]
  },
  {
   "cell_type": "markdown",
   "id": "581bf613-7067-44b4-9bbd-a3fba6233336",
   "metadata": {},
   "source": [
    "<style>\n",
    "ol>li {\n",
    "  counter-increment: mycounter;\n",
    " }\n",
    "\n",
    "ol {\n",
    "  list-style: none;\n",
    "}\n",
    "    \n",
    "ol>li::marker {\n",
    "  font-weight: bold;\n",
    "  content: counter(mycounter,lower-alpha) \". \";\n",
    "}\n",
    "\n",
    "ol:first-of-type {\n",
    "  counter-reset: mycounter;\n",
    "}\n",
    "\n",
    ".resetol {\n",
    "  counter-reset: mycounter;\n",
    "}\n",
    ".incrementol {\n",
    "  counter-increment: mycounter;\n",
    "  /* display:none;*/\n",
    "  content: counter(mycounter);\n",
    "}\n",
    "</style>"
   ]
  },
  {
   "cell_type": "markdown",
   "id": "a8e0dcf5-4351-4b7d-8524-5a24d0dcddf6",
   "metadata": {},
   "source": [
    "(exercise3.3-1)=\n",
    "## 3.3-1\n",
    "\n",
    "> Show that if $f(n)$ and $g(n)$ are monotonically increasing functions, then so are the functions $f(n)+g(n)$ and $f(g(n))$, and if $f(n)$ and $g(n)$ are in addition nonnegative, then $f(n)\\cdot g(n)$ is monotonically increasing."
   ]
  },
  {
   "cell_type": "markdown",
   "id": "cf6d8764-2aab-4237-8280-5de21da1b1c2",
   "metadata": {},
   "source": [
    "The fact that composition of monotonically increasing functions follows from the transitivity of conditionals. The other properties are basically the order axioms of the real numbers along with transitivity of conditionals."
   ]
  },
  {
   "cell_type": "markdown",
   "id": "2a666cbd-e65f-4f8c-aafb-d889518e9f23",
   "metadata": {},
   "source": [
    "(exercise3.3-2)=\n",
    "## 3.3-2\n",
    "\n",
    "> Prove that $\\lfloor\\alpha n\\rfloor + \\lceil(1-\\alpha)n\\rceil = n$ for any integer $n$ and real number $\\alpha$ in the range $0\\leq \\alpha\\leq 1$."
   ]
  },
  {
   "cell_type": "markdown",
   "id": "f5a14484-ecf1-4b3a-966a-90f053b93e59",
   "metadata": {},
   "source": [
    "On one hand, $n-\\lfloor \\alpha n\\rfloor$ is an integer and\n",
    "\n",
    "\\begin{align*}\n",
    "    n - \\lfloor \\alpha n\\rfloor\n",
    "        &\\geq n-\\alpha n\\\\\n",
    "        &=(1-\\alpha)n,\n",
    "\\end{align*}\n",
    "\n",
    "so $\\lceil (1-\\alpha)n\\rceil \\leq n - \\lfloor \\alpha n\\rfloor$, which is to say that $\\lfloor \\alpha n\\rfloor + \\lceil (1-\\alpha)n\\rceil\\leq n$.\n",
    "\n",
    "On the other hand, $n-\\lceil (1-\\alpha)n\\rceil$ is an integer and\n",
    "\n",
    "\\begin{align*}\n",
    "n-\\lceil (1-\\alpha)n\\rceil\n",
    "    &\\leq n- (1-\\alpha)n\\\\\n",
    "    &=\\alpha n\n",
    "\\end{align*}\n",
    "so $\\lfloor \\alpha n\\rfloor \\geq n-\\lceil (1-\\alpha)n\\rceil$, which is to say that $\\lfloor \\alpha n\\rfloor + \\lceil (1-\\alpha)n\\rceil \\geq n$."
   ]
  },
  {
   "cell_type": "markdown",
   "id": "28929925-54e8-4ff0-b546-1b809a61dd1a",
   "metadata": {},
   "source": [
    "(exercise3.3-3)=\n",
    "## 3.3-3\n",
    "\n",
    "> Use equation (3.14) or other means to show that $(n+o(n))^k=\\Theta(n^k)$ for any real constant $k$. Conclude that $\\lceil n\\rceil^k=\\Theta(n^k)$ and $\\lfloor n\\rfloor^k=\\Theta(n^k)$."
   ]
  },
  {
   "cell_type": "markdown",
   "id": "53f6faa8-dcc0-42eb-bbe6-9c88072d96f0",
   "metadata": {},
   "source": [
    "We have\n",
    "\n",
    "\\begin{align*}\n",
    "    \\lim_{n\\to\\infty} \\dfrac{(n+o(n))^k}{n^k}\n",
    "        &=\\lim_{n\\to\\infty}\\left(\\lim_{n\\to\\infty}\\dfrac{n+o(n)}{n}\\right)^k\\\\\n",
    "        &= 1^k\\\\\n",
    "        &=1,\n",
    "\\end{align*}\n",
    "\n",
    "so $(n+o(n))^k=\\Theta(n^k)$.\n",
    "\n",
    "As for the second part, let $c(n)=\\lceil n\\rceil-n$. Note that $\\lceil n\\rceil-n\\in[0,1]$, so\n",
    "\\begin{equation*}\n",
    "    \\lim_{n\\to\\infty}\\dfrac{\\lceil n\\rceil-n}{n}=0,\n",
    "\\end{equation*}\n",
    "which entails $c(n) = o(n)$. By the first part,\n",
    "\\begin{equation*}\n",
    "    (\\lceil n\\rceil)^k = (n+c(n))^k = (n+o(n))^k = \\Theta(n^k).\n",
    "\\end{equation*}\n",
    "The equation involving the floor function is dealt with similarly."
   ]
  },
  {
   "cell_type": "markdown",
   "id": "9b692002-f2e9-4d78-a6ec-ba4a71808e5e",
   "metadata": {},
   "source": [
    "```{note}\n",
    "\n",
    "- The second part only makes sense if we allow $n\\in\\mathbb{R}$, because if $n$ is integer then $n=\\lceil n\\rceil = \\lfloor n \\rfloor$. \n",
    "\n",
    "- We can also notice that $\\Theta(\\lfloor n^k\\rfloor)=\\Theta(\\lceil n^k\\rceil)=\\Theta(n^k)$. Indeed,\n",
    "    \\begin{equation*}\n",
    "        n^k-1\\leq \\lfloor n^k\\rfloor \\leq n^k,\n",
    "    \\end{equation*}\n",
    "    hence\n",
    "    \\begin{equation*}\n",
    "        1-\\dfrac{1}{n^k}\\leq\\dfrac{\\lfloor n^k\\rfloor}{n^k}\\leq 1,\n",
    "    \\end{equation*}\n",
    "    and thus $\\lim_{n\\to\\infty}\\dfrac{\\lfloor n^k\\rfloor}{n^k}=1$, by the Squeeze Theorem. This proves that $\\Theta(\\lfloor n^k\\rfloor)=\\Theta(n^k)$, and we prove that $\\Theta(\\lceil n^k\\rceil)=\\Theta(n^k)$ similarly.\n",
    "```"
   ]
  },
  {
   "cell_type": "markdown",
   "id": "f8a750c6-30b8-4cef-a271-41320e66d1f6",
   "metadata": {},
   "source": [
    "<span class=\"resetol\"></span>"
   ]
  },
  {
   "cell_type": "markdown",
   "id": "b7ed1483-e99d-4b80-83ef-18c381580b95",
   "metadata": {},
   "source": [
    "(exercise3.3-4)=\n",
    "## 3.3-4\n",
    "\n",
    "> Prove the following:\n",
    "> \n",
    "> 1. Equation (3.21).\n",
    "> \n",
    "> 2. Equations (3.26)-(3.28).\n",
    ">\n",
    "> 3. $\\lg(\\Theta(n))=\\Theta(\\lg(n))$."
   ]
  },
  {
   "cell_type": "markdown",
   "id": "2156e233-bc7e-4f5a-aec0-17df499b19ed",
   "metadata": {},
   "source": [
    "```{note}\n",
    "Equation (3.21) states that, for $a,b,c>0$,\n",
    "\\begin{equation*}a^{\\log_b c}=c^{\\log_b a},\\tag{3.21}\\end{equation*}\n",
    "and equations (3.26)-(3.28) state that, for $n$ a positive integer,\n",
    "\\begin{equation*}n!=o(n^n),\\tag{3.26}\\end{equation*}\n",
    "\\begin{equation*}n!=\\omega(2^n)\\tag{3.27}\\end{equation*}\n",
    "and\n",
    "\\begin{equation*}\\lg(n!)=\\Theta(n\\lg n).\\tag{3.28}\\end{equation*}\n",
    "```"
   ]
  },
  {
   "cell_type": "markdown",
   "id": "6ecd6ed7-c27b-4b6d-90a0-d601fff68545",
   "metadata": {},
   "source": [
    "<span class=\"resetol\"></span>"
   ]
  },
  {
   "cell_type": "markdown",
   "id": "7b0421a1-ec05-4f9c-8ca7-267130441b33",
   "metadata": {},
   "source": [
    "1. Properties of logarithms yield\n",
    "    \\begin{equation*}\\log_b(a^{\\log_b c}) = (\\log_b c) \\cdot (\\log_b a) = \\log_b(c^{\\log_b a}),\\end{equation*}    \n",
    "    so taking exponents in base $b$ in the first and third terms above give us the desired equality as in (3.21).\n",
    "\n",
    "2. Equation (3.26) is easy enough: For $n\\geq 2$, we have\n",
    "    \\begin{equation*}\\dfrac{n!}{n^n} = \\dfrac{1}{n} \\cdot \\dfrac{2}{n} \\cdot \\dfrac{3}{n} \\cdots \\dfrac{n}{n}\\leq \\dfrac{1}{n},\\end{equation*}      \n",
    "    so letting $n\\to\\infty$ yields $n!$ = $o(n^n)$.\n",
    "    \n",
    "    Equation (3.27) is similar: For $n\\geq 2$,\n",
    "    \\begin{equation*}\\dfrac{2^n}{n!} = \\dfrac{2}{1}\\cdot\\dfrac{2}{2}\\cdot\\dfrac{2}{3}\\cdots\\dfrac{2}{n}\\leq\\dfrac{4}{n},\\end{equation*}\n",
    "    and again letting $n\\to\\infty$ yields $2^n = o(n!)$, or equivalently $n!=\\omega(2^n)$.\n",
    "    \n",
    "    Equation (3.28) is more interesting: Properties of logarithms yield\n",
    "    \\begin{equation*}\\lg(n!)=\\sum_{j=1}^n \\lg(j).\\end{equation*}\n",
    "    Let $k\\geq 1$. Note that there are at most $\\left\\lfloor\\dfrac{n}{k}\\right\\rfloor$ positive integers $j$ satisfying $j<\\dfrac{n}{k}$. The remaining $n-\\left\\lfloor\\dfrac{n}{k}\\right\\rfloor$ values for $j$ in $[0,1,...,n]$ all satisfy $\\lg(j)\\geq \\lg\\left(\\dfrac{n}{k}\\right)$. Therefore, as long as $n\\geq k$,\n",
    "    \n",
    "    \\begin{align*}\n",
    "        \\lg(n!)\n",
    "            &\\geq \\left(n-\\left\\lfloor \\dfrac{n}{k}\\right\\rfloor\\right) \\lg\\left(\\dfrac{n}{k}\\right)\\\\\n",
    "            &\\geq n\\left(1-\\dfrac{1}{k}\\right)\\lg\\left(\\dfrac{n}{k}\\right)\\\\\n",
    "            &= n\\left(1-\\dfrac{1}{k}\\right)(\\lg n - \\lg k).\n",
    "    \\end{align*}\n",
    "    \n",
    "    Thus,\n",
    "    \\begin{equation*}\\dfrac{\\lg(n!)}{n\\lg n}\\geq \\left(1-\\dfrac{1}{k}\\right)\\left(1 - \\dfrac{\\lg k}{\\lg n}\\right),\\end{equation*}\n",
    "  \n",
    "    which goes to $1-\\dfrac{1}{k}$ as $n$ increases. This argument with $k\\geq 2$ shows that $\\lg(n!)=\\Omega(n\\lg n)$.\n",
    "  \n",
    "    Conversely, note that\n",
    "    \\begin{align*}\n",
    "      n \\lg n\n",
    "          & = \\lg (n^n)\\\\\n",
    "          &\\geq \\lg(n!),\n",
    "    \\end{align*}\n",
    "    thus $\\limsup_{n\\to\\infty}\\dfrac{\\lg(n!)}{n \\lg n}\\leq 1$, which implies that $\\lg(n!) = O(n\\lg n)$.\n",
    "\n",
    "    The two inclusions above mean that $\\lg(n!)=\\Theta(n\\lg n)$, as we wanted for Equation (3.28).\n",
    "  \n",
    "    ```{note}\n",
    "    Letting $k\\to\\infty$ in the first part of the argument and using it with the second part, we actually obtain the limit $\\lim_{n\\to\\infty}\\dfrac{\\lg(n!)}{n\\lg n}=1$.\n",
    "    ```\n",
    "  \n",
    "3. Let $f(n)=\\Theta(n)$. Then there is a constant $c>0$ such that, for sufficiently large $n$,\n",
    "    \\begin{equation*}\\dfrac{n}{c} < f(n) < cn.\\end{equation*}\n",
    "\n",
    "    Taking logarithms:\n",
    "    \\begin{equation*}\\lg n - \\lg c < \\lg f(n) < \\lg n + \\lg c.\\end{equation*}\n",
    "\n",
    "    If in addition we consider $n>\\max\\left\\{c,c^2\\right\\}$, then\n",
    "    \\begin{equation*}\\lg n + \\lg c < 2\\lg n,\\end{equation*}\n",
    "    and also\n",
    "    \\begin{equation*}\\lg n - \\lg c > \\lg n - \\dfrac{1}{2}\\lg n = \\dfrac{1}{2} \\lg n,\\end{equation*}\n",
    "    so\n",
    "    \\begin{equation*}\\dfrac{1}{2}\\lg n < \\ln f(n) < 2 \\lg n\\end{equation*}\n",
    "    for all sufficiently large $n$, which proves that $f(n) =  \\Theta(\\lg n)$, as we wanted."
   ]
  },
  {
   "cell_type": "markdown",
   "id": "97dfc069-bf1d-4f7a-829a-8a6b24ed3f96",
   "metadata": {},
   "source": [
    "(exercise3.3-5)=\n",
    "## &starf; 3.3-5\n",
    "\n",
    "> Is the function $\\lceil \\lg n\\rceil !$ polynomially bounded? Is the function $\\lceil \\lg \\lg n\\rceil !$ polynomially bounded?"
   ]
  },
  {
   "cell_type": "markdown",
   "id": "9a740ef4-67b7-43bb-9b00-27c2f5381adf",
   "metadata": {},
   "source": [
    "First, let us prove that $\\lceil\\lg n\\rceil!$ is not polynomially bounded. To this end, we need to prove that, for all (integer) $p>0$ there exist $n$ as large as necessary such that $\\lceil\\lg n\\rceil!\\geq n^p$.\n",
    "\n",
    "Let $k$ be a large integer, so that $n=2^{kp}$ is also a large integer (as big as one wants). Then\n",
    "\n",
    "$$\\lceil \\lg n\\rceil ! = (kp)!$$\n",
    "\n",
    "However, we know that $m!=\\omega(2^m)$ by Equation (3.27) (proven in the previous exercise), so for all $m$ sufficienly large one has $m!\\geq 2^m$. In particular, taking $m=kp$ (where $k$ is our initial large integer)\n",
    "\n",
    "$$\\lceil \\lg n\\rceil ! = (kp)! = m!\\geq 2^k = 2^{kp} = n^p,$$\n",
    "\n",
    "just as we wanted.\n",
    "\n",
    "Therefore, $\\lceil \\lg n\\rceil!$ is not polynomially bounded.\n",
    "\n",
    "On the other hand, $\\lceil\\lg \\lg n\\rceil!$ is constant on all intervals of the form $[2^{2^k},2^{2^{k+1}}-1]$, so we need only to analyze its growth on the \"steps\" of the form $n=2^{2^k}$, on which we have\n",
    "$\\lceil \\lg \\lg n\\rceil! = k!$. We just need to verify that this is smaller than $n$, which can be done by induction.\n",
    "\n",
    "> **Claim**: $k!<2^{2^k}$ for all integers $k\\geq 0$.\n",
    "\n",
    "The claim is verified directly for $k=0,1,2,3$. As for the inductive step, simply notice that, for $k\\geq 3$,\n",
    "\n",
    "$$(k+1)\\leq 2k\\leq k!,$$\n",
    "\n",
    "so $(k+1)!\\leq (k!)^2$. Using the induction hypothesis on the right-hand side yields the result\n",
    "\n",
    "Thus, on the steps $n=2^{2^k}$ we have\n",
    "\n",
    "$$\\lceil\\lg\\lg n\\rceil!=k!<2^{2^k}=n$$\n",
    "\n",
    "so also $\\lceil\\lg\\lg n\\rceil!<n$ for all positive integers $n$. This suffices to show that $\\lceil\\lg\\lg n\\rceil!$ is polynomially bounded.\n",
    "\n",
    "For good practice, let us verify that $\\lceil\\lg\\lg n\\rceil!\\ll n\\ll\\lceil \\lg n\\rceil!$ for small $n$, of the form $n=2^k$ with $k\\leq 20$."
   ]
  },
  {
   "cell_type": "code",
   "execution_count": 1,
   "id": "423e4b40-40f7-4d5e-a73f-cbdcab70b25c",
   "metadata": {},
   "outputs": [
    {
     "name": "stdout",
     "output_type": "stream",
     "text": [
      "|       n |         ceil(lg n)! | ceil(lg lg n)! |\n",
      "|---------|---------------------|----------------|\n",
      "|       1 |                   1 |      undefined |\n",
      "|       2 |                   1 |              1 |\n",
      "|       4 |                   2 |              1 |\n",
      "|       8 |                   6 |              2 |\n",
      "|      16 |                  24 |              2 |\n",
      "|      32 |                 120 |              6 |\n",
      "|      64 |                 720 |              6 |\n",
      "|     128 |                5040 |              6 |\n",
      "|     256 |               40320 |              6 |\n",
      "|     512 |              362880 |             24 |\n",
      "|    1024 |             3628800 |             24 |\n",
      "|    2048 |            39916800 |             24 |\n",
      "|    4096 |           479001600 |             24 |\n",
      "|    8192 |          6227020800 |             24 |\n",
      "|   16384 |         87178291200 |             24 |\n",
      "|   32768 |       1307674368000 |             24 |\n",
      "|   65536 |      20922789888000 |             24 |\n",
      "|  131072 |     355687428096000 |            120 |\n",
      "|  262144 |    6402373705728000 |            120 |\n",
      "|  524288 |  121645100408832000 |            120 |\n",
      "| 1048576 | 2432902008176640000 |            120 |\n"
     ]
    }
   ],
   "source": [
    "#include <math.h>\n",
    "#include <stdio.h>\n",
    "\n",
    "unsigned long long fact( unsigned long long n) ; // factorial\n",
    "unsigned long long pow_long(unsigned long long m , unsigned long long n) ; // m^n\n",
    "\n",
    "int main() {\n",
    "    unsigned long long k,n;\n",
    "    \n",
    "    printf(\"| %7s | %19s | %14s |\\n\",\"n\",\"ceil(lg n)!\",\"ceil(lg lg n)!\");\n",
    "    printf(\"|---------|---------------------|----------------|\\n\");\n",
    "    \n",
    "    printf(\"| %7d | %19d | %14s |\\n\",1,fact(ceil(log2(1))),\"undefined\" ); // n=1\n",
    "    for (k=1;k<21;k++) {\n",
    "        n=pow_long(2,k);\n",
    "        printf(\"| %7llu | %19llu | %14llu |\\n\",n,fact(ceil(log2(n))),fact(ceil(log2(log2(n)))) );\n",
    "    }\n",
    "    \n",
    "    return 0;\n",
    "}\n",
    "\n",
    "unsigned long long fact( unsigned long long n) {\n",
    "    if (n==0) return 1;\n",
    "    return n*fact(n-1);\n",
    "}\n",
    "\n",
    "unsigned long long pow_long(unsigned long long m,unsigned long long n){\n",
    "    if (n==0) return 1;\n",
    "    return m*pow_long(m,n-1);\n",
    "}"
   ]
  },
  {
   "cell_type": "markdown",
   "id": "2ebeef9f-663e-4090-a917-5a32f7a406c7",
   "metadata": {},
   "source": [
    "(exercise3.3-6)=\n",
    "## &starf; 3.3-6\n",
    "\n",
    "> Which is asymptotically larger: $\\lg(\\lg^* n)$ or $\\lg^*(\\lg n)$?"
   ]
  },
  {
   "cell_type": "markdown",
   "id": "72315673-1a01-425b-857f-aebfc8fe7ccf",
   "metadata": {},
   "source": [
    "First, note that $\\lg^*(n)$ is the smallest integer $i$ such that\n",
    "\\begin{equation*}\\lg^{(i)} n \\leq 1,\\end{equation*}\n",
    "which is equivalent to saying that\n",
    "\\begin{equation*}n\\leq \\operatorname{pow}_2^{(i)}(1),\\end{equation*}\n",
    "where $\\operatorname{pow}_2\\colon x\\mapsto 2^x$ is the exponential function in base $2$. Thus, we can determine $\\lg^*$ as follows: Consider the sequence $\\left\\{x_n\\right\\}_{n=1}^\\infty$ given by\n",
    "\\begin{equation*}x_1=1,\\qquad x_{n+1}=2^{x_n}.\\end{equation*}\n",
    "Then $\\lg^*x=n$ if and only if $x_n\\leq x<x_{n+1}$ for all $x\\geq 1$. In this manner, we can see what are the \"steps\" that the functions $\\lg(\\lg^* n)$ and $\\lg^*(\\lg n)$ take. Given a positive integer $k$, we have\n",
    "\\begin{equation*}\\lg(\\lg^* n) \\geq k\\iff \\lg^* n \\geq 2^k \\iff n\\geq x_{2^k}\\tag{3.3-6.1}\\end{equation*}\n",
    "and\n",
    "\\begin{equation*}\\lg^*(\\lg n)\\geq k\\iff \\lg n \\geq x_k\\iff n\\geq 2^{x_k}=x_{k+1}.\\tag{3.3-6.2}\\end{equation*}\n",
    "\n",
    "Since the sequence $\\left\\{x_k\\right\\}_{k=1}^\\infty$ is increasing and $2^k\\geq k+1$ for all $k\\geq 1$, then $x_{2^k}\\geq x_{k+1}$. This is an indication that $\\lg(\\lg^* n)$ grows much slower than $\\lg^*(\\lg n)$. However, since $\\lg(\\lg^* n)$ takes non-integer values, we need to be a little more precise in our considerations.\n",
    "\n",
    "Let $n$ be a large integer, and consider the number $k=k(n)$ such that $x_{2^k}\\leq n<x_{2^{k+1}}$. By Equation (3.3-6.1), we have $\\lg(\\lg^* n)<k+1$, and by Equation (3.3-6.2) we have $\\lg^*(\\lg n)\\geq 2^k$. Thus,\n",
    "\\begin{equation*}\\dfrac{\\lg^*(\\lg n)}{\\lg(\\lg^* n)}>\\dfrac{2^k}{k+1}\\end{equation*}\n",
    "As $k=k(n)$ grows along with $n$ (albeit very slowly), we conclude that $\\lim_{n\\to\\infty}\\dfrac{\\lg^*(\\lg n)}{\\lg(\\lg^* n)}=\\infty$, which is to say that $\\lg^*(\\lg n)$ is asymptotically larger than $\\lg(\\lg^* n)$."
   ]
  },
  {
   "cell_type": "markdown",
   "id": "45fa2724-76d1-436e-b6a9-c4c2068140b4",
   "metadata": {},
   "source": [
    "```{note}\n",
    "In [Problem 3-7](problem3-7), we will see that $\\lg^*(\\lg n)=\\lg n -1$.\n",
    "```"
   ]
  },
  {
   "cell_type": "markdown",
   "id": "dc06c52b-4956-45d7-9e74-fb419584b212",
   "metadata": {},
   "source": [
    "(exercise3.3-7)=\n",
    "## 3.3-7\n",
    "\n",
    ">Show that the golden ration $\\phi$ and its conjugate $\\widehat{\\phi}$ both satisfy the equation $x^2=x+1$."
   ]
  },
  {
   "cell_type": "markdown",
   "id": "ef8e425e-c37d-445f-8fe7-ed40bf78f119",
   "metadata": {},
   "source": [
    "Trivial."
   ]
  },
  {
   "cell_type": "markdown",
   "id": "73583253-6cb4-40c8-828a-ffa5cc8df076",
   "metadata": {},
   "source": [
    "(exercise3.3-8)=\n",
    "## 3.3-8\n",
    "\n",
    "> Prove by induction that the $i$th Fibonacci number satisfies the equation\n",
    ">\n",
    "> $$F_i=(\\phi^i-\\widehat{\\phi}^i)/\\sqrt{5},$$\n",
    ">\n",
    "> where $\\phi$ is the golden ration and $\\widehat{\\phi}$ is its conjugate."
   ]
  },
  {
   "cell_type": "markdown",
   "id": "84e77c73-aeae-4ab7-a86c-a6f4459e565f",
   "metadata": {},
   "source": [
    "For $i=0$ and $i=1$ the equality is verified directly.\n",
    "\n",
    "Assuming that the equation holds for $i$ and $i+1$, we have\n",
    "\\begin{align*}\n",
    "    F_{i+2}\n",
    "        & = F_i + F_{i+1}\n",
    "            \\tag{Definition of Fibonacci sequence}\\\\\n",
    "        & = \\dfrac{\\phi^i-\\widehat{\\phi}^i}{\\sqrt{5}} + \\dfrac{\\phi^{i+1}-\\widehat{\\phi}^{i+1}}{\\sqrt{5}}\n",
    "            \\tag{Inductive hypothesis}\\\\\n",
    "        & = \\dfrac{\\phi^i(\\phi+1) - \\widehat{\\phi}^i(\\widehat{\\phi}+1)}{\\sqrt(5)}\n",
    "            \\tag{Elementary algebra}\\\\\n",
    "        & = \\dfrac{\\phi^i\\phi^2 - \\widehat{\\phi}^i\\widehat{\\phi}^2}{\\sqrt{5}}\n",
    "            \\tag{Exercise 3.3-7}\\\\\n",
    "        & = \\dfrac{\\phi^{i+2}-\\widehat{\\phi}^{i+2}}{\\sqrt{5}},\n",
    "            \\tag{Elementary algebra}\n",
    "\\end{align*}\n",
    "which is the desired equality for $i+2$."
   ]
  },
  {
   "cell_type": "markdown",
   "id": "876d9b0b-ddd4-44b9-b327-aecdb5147f40",
   "metadata": {},
   "source": [
    "(exercise3.3-9)=\n",
    "## 3.3-9\n",
    "\n",
    "> Show that $k\\lg k = \\Theta(n)$ implies $k=\\Theta(n/\\lg n)$."
   ]
  },
  {
   "cell_type": "markdown",
   "id": "e8d99b1a-7c56-4686-8f7d-e8cd88c954fc",
   "metadata": {},
   "source": [
    "Naturally, we are assuming $k=k(n)$. Suppose that $k \\lg k = \\Theta(n)$. Then there exists $c,d>0$ such that, for sufficiently large $n$,\n",
    "\\begin{equation*}dn \\leq k \\lg k \\leq cn\\tag{3.3-9.1}.\\end{equation*}\n",
    "\n",
    "Moreover, $k \\lg k \\leq k^2$, so the first inequality of (3.3-9.1) implies that\n",
    "\\begin{equation*}\\lg d + \\lg n \\leq 2 \\lg k,\\end{equation*}\n",
    "thus\n",
    "\\begin{equation*}k \\lg n \\leq k (2\\lg k - \\lg d) \\leq 2k \\lg k \\leq 2cn,\\end{equation*}\n",
    "which yields, on one hand,\n",
    "\\begin{equation*}k \\leq 2c(n/ \\lg n).\\tag{3.3-9.2}\\end{equation*}\n",
    "\n",
    "On the other hand, the first inequality of (3.3-9.1) also implies that, for $n$ sufficiently large, we have $k\\geq 2$, so the second inequality gives us\n",
    "\\begin{equation*}k\\leq k \\lg k \\leq cn,\\end{equation*}\n",
    "so\n",
    "\\begin{equation*}\\lg k\\leq \\lg c + \\lg n \\leq 2 \\lg n,\\end{equation*}\n",
    "again assuming $n$ sufficiently large. Thus, the first inequality of (3.3-9.1) yields\n",
    "\\begin{equation*}n \\leq (k/d) \\lg k \\leq (2/d)k \\lg n,\\end{equation*}\n",
    "that is,\n",
    "\\begin{equation*}n/\\lg n \\leq (2/d)k.\\tag{3.3-9.3}\\end{equation*}\n",
    "\n",
    "Inequalities (3.3-9.2) and (3.3-9.3) imply that $k=\\Theta(n/\\lg n)$."
   ]
  }
 ],
 "metadata": {
  "kernelspec": {
   "display_name": "C",
   "language": "c",
   "name": "c"
  },
  "language_info": {
   "file_extension": ".c",
   "mimetype": "text/x-csrc",
   "name": "text/x-csrc"
  }
 },
 "nbformat": 4,
 "nbformat_minor": 5
}