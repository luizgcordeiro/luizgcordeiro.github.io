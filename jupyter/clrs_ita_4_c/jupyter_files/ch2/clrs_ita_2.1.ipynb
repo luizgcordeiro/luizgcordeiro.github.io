{
 "cells": [
  {
   "cell_type": "markdown",
   "id": "1de5e8c5-25a7-4049-ab86-ee792ecc0af9",
   "metadata": {},
   "source": [
    "# 2.1 Insertion sort"
   ]
  },
  {
   "cell_type": "markdown",
   "id": "7f7d2e56-bd0c-4917-b5e7-354a3cb6117c",
   "metadata": {},
   "source": [
    "We start by implementing and testing `INSERTION-SORT`. For simplicity, we apply it to integer arrays."
   ]
  },
  {
   "cell_type": "code",
   "execution_count": 4,
   "id": "daf53b56-0de0-43c8-9d58-d25123aceb9d",
   "metadata": {},
   "outputs": [
    {
     "name": "stdout",
     "output_type": "stream",
     "text": [
      "Array created:\n",
      "  9, -9, -5, 1, -7, -3, 2, -9, -4, 4.\n",
      "\n",
      "Ordered array:\n",
      "  -9, -9, -7, -5, -4, -3, 1, 2, 4, 9.\n"
     ]
    }
   ],
   "source": [
    "/*\n",
    "    Headers only needed for tests\n",
    "*/\n",
    "#include <stdio.h>\n",
    "#include <time.h>\n",
    "\n",
    "void insertion_sort(int *A, size_t n) {\n",
    "  // Insertion sort on an integer array of length n\n",
    "\n",
    "  int i,j; // Indices\n",
    "  int key;\n",
    "  for (j = 1; j < n; j++) {\n",
    "    key = A[j];\n",
    "    i = j - 1;\n",
    "    while (i >= 0 && A[i] > key) {\n",
    "      A[i + 1] = A[i];\n",
    "      i--;\n",
    "    }\n",
    "\n",
    "    A[i + 1] = key;\n",
    "  }\n",
    "}\n",
    "\n",
    "// Test code below\n",
    "\n",
    "int main() {\n",
    "    int i; // Index\n",
    "    int n=10; // Test size\n",
    "\n",
    "    srand(time(NULL));\n",
    "    \n",
    "    // Dinamically allocate random integer array\n",
    "    int * A = malloc(n*sizeof(int));\n",
    "    for (i=0;i<n;i++) {\n",
    "        A[i] = rand()%21 - 10;\n",
    "    }\n",
    "    \n",
    "    printf(\"Array created:\\n  \");\n",
    "    for (i=0;i<n-1;i++) {\n",
    "        printf(\"%d, \",A[i]);\n",
    "    }\n",
    "    printf(\"%d.\\n\\n\",A[i]);\n",
    "    \n",
    "    insertion_sort( A , n );\n",
    "    printf(\"Ordered array:\\n  \");\n",
    "    for (i=0;i<n-1;i++) {\n",
    "        printf(\"%d, \",A[i]);\n",
    "    }\n",
    "    printf(\"%d.\\n\",A[i]);\n",
    "\n",
    "    free(A);\n",
    "    \n",
    "    return 0;\n",
    "}"
   ]
  },
  {
   "cell_type": "markdown",
   "id": "d2689d22-8229-4ca9-8b37-ec009a53c7f2",
   "metadata": {},
   "source": [
    "## 2.1-1\n",
    "\n",
    "> Using Figure 2.2 as a model, illustrate the operation of `INSERTION-SORT` on an array initially containing the sequence $\\langle 31,41,59,26,41,58\\rangle$."
   ]
  },
  {
   "cell_type": "markdown",
   "id": "e3343b3a-0b66-4112-8cdb-36fc15357619",
   "metadata": {},
   "source": [
    "![compiled image for exercise 2.1-1](../images/2.1-1.png)"
   ]
  },
  {
   "cell_type": "markdown",
   "id": "2ba0a55a-dfca-40b8-92fd-0bfcd9e2ae97",
   "metadata": {},
   "source": [
    "The image above was made with the TikZ code available in file [2.1-1_tikz](../images/2.1-1_tikz).\n",
    "\n"
   ]
  },
  {
   "cell_type": "markdown",
   "id": "d7dcd2f6-ee03-4b2a-8e2c-078cc86cc69b",
   "metadata": {},
   "source": [
    "## 2.1-2\n",
    "\n",
    "> Consider the procedure `SUM-ARRAY` on the facing page. It computes the sum of the $n$ numbers in array $A[1:n]$. State a loop invariant for this procedure, and use its initialization, maintenance, and termination properties to show that the `SUM-ARRAY` procedure returns the sum of the numbers in $A[1:n]$.\n",
    ">\n",
    ">     SUM-ARRAY(A,n)\n",
    ">     1 sum=0\n",
    ">     2 for i=1 to n\n",
    ">     3     sum = sum + A[i]\n",
    ">     4 return sum"
   ]
  },
  {
   "cell_type": "markdown",
   "id": "f3cc75b2-be1a-4640-97c1-f8d5dd4e19a6",
   "metadata": {},
   "source": [
    "- **Loop invariant**: At the start of the $i$-th iteration, `sum` stores the sum of the elements of $A[1:i-1]$\n",
    "- **Initialization**: Trivial (vacuous) for $i=1$.\n",
    "- **Maintenance**: Suppose the invariant was true before the $i$-th iteration. This means that in line 2 `sum` stores the sum of the elements in $A[1:i-1]$. In line 3, the value $A[i]$ is added to `sum`, so now it stores the sum of the elements in $A[1:i]$, i.e., of the elements in $A[1:(i+1)-1]$. After line 3 the loop goes to the next iteration, so incrementing $i$ for the next iteration of the loop preserves the loop invariant.\n",
    "- **Termination**: The loop terminates when $i=n+1$. Substituting this value in the loop invariant, we obtain that `sum` stores the sum of the elements of $A[1:n]$, and this is the value that the algorithm returns (as per line 4.)."
   ]
  },
  {
   "cell_type": "markdown",
   "id": "8d8e9e7e-4f68-4d5b-8732-d81be1e38f2f",
   "metadata": {},
   "source": [
    "## 2.1-3\n",
    "\n",
    "> Rewrite the `INSERTION-SORT` procedure to sort into monotonically decreasing instead of monotonically increasing order."
   ]
  },
  {
   "cell_type": "markdown",
   "id": "820f626c-932c-4090-9014-cf6c7fe692c5",
   "metadata": {},
   "source": [
    "Simply substitute \"$A[i]>\\mathrm{key}$\" by \"$A[i]<\\mathrm{key}$\" in line 5. of the procedure (p. 19). C implementation below."
   ]
  },
  {
   "cell_type": "code",
   "execution_count": 5,
   "id": "69bb9ee1-7c4e-43e7-b70d-4992391605a4",
   "metadata": {},
   "outputs": [
    {
     "name": "stdout",
     "output_type": "stream",
     "text": [
      "Array created:\n",
      "  9, -9, -5, 1, -7, -3, 2, -9, -4, 4.\n",
      "\n",
      "Monotonically decreasing array:\n",
      "  9, 4, 2, 1, -3, -4, -5, -7, -9, -9.\n"
     ]
    }
   ],
   "source": [
    "/*\n",
    "    Headers only needed for tests\n",
    "*/\n",
    "#include <stdio.h>\n",
    "#include <time.h>\n",
    "\n",
    "void insertion_sort_reversed(int *A, size_t n) {\n",
    "  int i,j; // Indices\n",
    "  int key;\n",
    "  for (j = 1; j < n; j++) {\n",
    "    key = A[j];\n",
    "    i = j - 1;\n",
    "    while (i >= 0 && A[i] < key) {\n",
    "      A[i + 1] = A[i];\n",
    "      i--;\n",
    "    }\n",
    "\n",
    "    A[i + 1] = key;\n",
    "  }\n",
    "}\n",
    "\n",
    "// Test code below\n",
    "\n",
    "int main() {\n",
    "    int i; // Index\n",
    "    int n=10; // Test size\n",
    "\n",
    "    srand(time(NULL));\n",
    "    \n",
    "    // Dinamically allocate random integer array\n",
    "    int * A = malloc(n*sizeof(int));\n",
    "    for (i=0;i<n;i++) {\n",
    "        A[i] = rand()%21 - 10;\n",
    "    }\n",
    "    \n",
    "    printf(\"Array created:\\n  \");\n",
    "    for (i=0;i<n-1;i++) {\n",
    "        printf(\"%d, \",A[i]);\n",
    "    }\n",
    "    printf(\"%d.\\n\\n\",A[i]);\n",
    "    \n",
    "    insertion_sort_reversed( A , n );\n",
    "    printf(\"Monotonically decreasing array:\\n  \");\n",
    "    for (i=0;i<n-1;i++) {\n",
    "        printf(\"%d, \",A[i]);\n",
    "    }\n",
    "    printf(\"%d.\\n\",A[i]);\n",
    "\n",
    "    free(A);\n",
    "    \n",
    "    return 0;\n",
    "}\n"
   ]
  },
  {
   "cell_type": "markdown",
   "id": "06e263ae-8c80-4672-a704-b806238a17cc",
   "metadata": {},
   "source": [
    "## 2.1-4\n",
    "\n",
    "> Consider the ***searching problem***:\n",
    ">\n",
    "> - **Input**: A sequence of $n$ numbers $A=\\langle a_1,a_2,\\ldots,a_n\\rangle$ stored in array $A[1:n]$ and a value $x$.\n",
    "> - **Output**: An index $i$ such that $x$ equals $A[i]$ or the special value `NIL` if $x$ does not appear in $A$.\n",
    ">\n",
    "> Write pseudocode for **`LINEAR SEARCH`**, which scans through the array from beginning to end, looking for $x$. Using a loop invariant, prove that your algorithm is correct. Make sure that your loop invariant fulfills the three necessary properties."
   ]
  },
  {
   "cell_type": "markdown",
   "id": "921b12c0-6abe-4e06-8dc4-c7f0e58d5d23",
   "metadata": {},
   "source": [
    "    LINEAR-SEARCH(A,n,x)\n",
    "    1 for j=1 to n\n",
    "    2   if x=A[j]\n",
    "    3     return j\n",
    "    4   return NIL\n",
    "\n",
    "- **Loop invariant**: At the start of the $j$-th iteration, $x$ does not appear in $A[1:(j-1)]$.\n",
    "- **Initialization**: Trivial (vacuous) for j=1.\n",
    "- **Maintenance**: Suppose the invariant was true at the start of the $j$-th iteration and that we are at the start of the $(j+1)$-th iteration. This means that the procedure did not return during the $j$-th iteration, i.e., that the condition \"$x=A[j]$\" is not true. Thus $x$ is not $A[j]$, nor does it appear in $A[1:(j-1)]$ (by hypothesis), so it does not appear in $A[1:j]=A[1:((j+1)-1)]$, as desired (the loop invariant at step $j+1$).\n",
    "- **Termination**: The loop terminates under two possibilities:\n",
    "  - 1<sup>st</sup>: It returns a value during some iteration, which only happens if \"$x=A[j]$\" evaluates to `True` for some $j$. In this case, \"$x=A[j']$\" does not evaluate to `True` for any $j'<j$. So, in this case, the process actually returns the ***first*** index $j$ for which $x=A[j]$ (and not just any such index). This is the desired output for our algorithm.\n",
    "  - 2<sup>nd</sup>: $j$ gets to $n+1$. The loop invariant then tells us that $x$ does not appear in $A[1:n]$, and the process returns `NIL`, which is also the desired output for our algorithm in this case.\n",
    "\n",
    "C implementation below (we use \"-1\" instead of `NIL`)."
   ]
  },
  {
   "cell_type": "code",
   "execution_count": 2,
   "id": "718d1d56-c1e3-4b47-ba77-755b5b903152",
   "metadata": {},
   "outputs": [
    {
     "name": "stdout",
     "output_type": "stream",
     "text": [
      "Array created:\n",
      "  -5, -3, 0, 2, 1, -4, -5, 3, 3, -2.\n",
      "\n",
      "Key: 2\n",
      "\n",
      "The key was found at index 3.\n"
     ]
    }
   ],
   "source": [
    "/*\n",
    "    Headers only needed for tests\n",
    "*/\n",
    "#include <stdio.h>\n",
    "#include <time.h>\n",
    "\n",
    "int linear_search(int *A , int n , int x) {\n",
    "  /*\n",
    "    Using size_t for indexes and sizes is preferable, but since we want\n",
    "    -1 as a possible return, we use int instead.\n",
    "    \n",
    "    An alternative would be to return the pointer to the entry instead\n",
    "    of the entry number, which allows for NULL.\n",
    "  */\n",
    "    \n",
    "  int j; // Index\n",
    "  for (j = 0; j < n; j++) {\n",
    "    if (x==A[j]) {\n",
    "      return j;\n",
    "    }\n",
    "  }\n",
    "  return -1;\n",
    "}\n",
    "\n",
    "// Test code below\n",
    "\n",
    "int main() {\n",
    "    srand(time(NULL));\n",
    "\n",
    "    int i,index; // Index\n",
    "    int n=10; // Test size\n",
    "    int x = rand()%10; // key\n",
    "\n",
    "    \n",
    "    // Dinamically allocate random integer array\n",
    "    int * A = malloc(n*sizeof(int));\n",
    "    for (i=0;i<n;i++) {\n",
    "        A[i] = rand()%11 - 5;\n",
    "    }\n",
    "    \n",
    "    printf(\"Array created:\\n  \");\n",
    "    for (i=0;i<n-1;i++) {\n",
    "        printf(\"%d, \",A[i]);\n",
    "    }\n",
    "    printf(\"%d.\\n\\n\",A[i]);\n",
    "    \n",
    "    printf(\"Key: %d\\n\\n\",x);\n",
    "\n",
    "    index = linear_search(A,n,x);\n",
    "\n",
    "    if (index==-1) {\n",
    "      printf(\"The key was not found.\\n\");\n",
    "      return 0;\n",
    "    }\n",
    "\n",
    "    printf(\"The key was found at index %d.\\n\" , index);\n",
    "    free(A);\n",
    "    \n",
    "    return 0;\n",
    "}"
   ]
  },
  {
   "cell_type": "markdown",
   "id": "95838037-863a-4893-83be-0e542f7f44ae",
   "metadata": {},
   "source": [
    "## 2.1-5\n",
    "\n",
    "> Consider the problem of adding two $n$-bit binary integers $a$ and $b$, stored in two $n$-element arrays $A[0:n-1]$ and $B[0:n-1]$, where each element is either $0$ or $1$, $a=\\sum_{i=0}^{n-1}A[i]\\cdot 2^i$, and $b=\\sum_{i=0}^{n-1}B[i]\\cdot 2^i$. The sum $c=a+b$ of the two integers should be stored in binary form in an $(n+1)$-element array $C[0:n]$, where $c=\\sum_{i=0}^n C[i]\\cdot 2^i$. Write a procedure `ADD-BINARY-INTEGERS` that takes as input arrays $A$ and $B$, along with the length $n$, and returns array $C$ holding the sum."
   ]
  },
  {
   "cell_type": "markdown",
   "id": "39df164a-8b72-447b-a4a8-43a2dd580816",
   "metadata": {},
   "source": [
    "We do standard addition with carrying (which takes time $O(n)=O(\\lg a)$), or we can use the recursive definition of addition, as \"$a+b)=(a+(b-1))+1$\" (which takes time $O(a)$). Let us implement the former.\n",
    "\n",
    "    ADD-BINARY-INTEGERS(A,B,n)\n",
    "    1.  Initialize C[0:n]\n",
    "    2.  carry = 0\n",
    "    3.    for i=0 to n-1\n",
    "    4.      // We have to sum A[i]+B[i]+carry and update the carry. We can do it without addition\n",
    "    5.      if A[i]=B[i] // A[i]+B[i] = 00 or 01 (little-endian); either way, C[i]=carry\n",
    "    6.        C[i]=carry\n",
    "    7.        // if A[i]=1, the result was 01, so carry = 1. Otherwise, carry = 0\n",
    "    8.        carry = A[i]\n",
    "    9.      else // A[i] and B[i]  are different: one is 0; other is 1\n",
    "    10.       if carry=1 //A[i]+B[i]+carry=01\n",
    "    11.         C[i]=0\n",
    "    12.         // carry=1, no need to update\n",
    "    13.       else // A[i]+B[i]+carry=10\n",
    "    14.         C[i]=1\n",
    "    15.         // carry=0, no need to update\n",
    "    16. C[n]=carry\n",
    "\n",
    "Implementation below."
   ]
  },
  {
   "cell_type": "code",
   "execution_count": 7,
   "id": "4376e4b0-792a-48c1-8bdf-ef5c30d9779a",
   "metadata": {},
   "outputs": [
    {
     "name": "stdout",
     "output_type": "stream",
     "text": [
      "Testing the sum. Note that numbers are written little endian, with carry to the right.\n",
      " 1011000111\n",
      "+1010000111\n",
      " ___________\n",
      " 01001000111\n"
     ]
    }
   ],
   "source": [
    "#include <stdio.h>\n",
    "#include <time.h>\n",
    "\n",
    "void add_binary_integers(int *A, int *B, int *C, int n) {\n",
    "  int carry = 0;\n",
    "  for (int i = 0; i < n; i++) {\n",
    "    if (A[i] == B[i]) { // result will be 00 or 01 (little-endian); either way\n",
    "                        // C[i]=carry\n",
    "      C[i] = carry;\n",
    "      if (A[i] == 1) { // result was 01\n",
    "        carry = 1;\n",
    "      } else {\n",
    "        carry = 0;\n",
    "      }\n",
    "    } else {            // A[i] and B[i]  are different: one is 0; other is 1\n",
    "      if (carry == 1) { // A[i]+B[i]+along=01\n",
    "        C[i] = 0;\n",
    "      } else { // A[i]+B[i]+along=10\n",
    "        C[i] = 1;\n",
    "      }\n",
    "      // along=0, no need to update\n",
    "    }\n",
    "  }\n",
    "\n",
    "  C[n] = carry;\n",
    "  return;\n",
    "}\n",
    "\n",
    "int main() {\n",
    "  srand(time(NULL));\n",
    "  int n = 10;\n",
    "\n",
    "  // Initialize two n-sized 0-1 strings and their sum.\n",
    "  int A[n], B[n], C[n + 1];\n",
    "  for (int i = 0; i < n; i++) {\n",
    "    A[i] = rand() % 2;\n",
    "    B[i] = rand() % 2;\n",
    "  }\n",
    "\n",
    "  add_binary_integers(A,B,C,n);\n",
    "  \n",
    "  // Print the sum\n",
    "  printf(\"Testing the sum. Note that numbers are written little endian, with carry to the right.\\n\");\n",
    "  printf(\" \");\n",
    "  for (int i = 0; i < n; i++) {\n",
    "    printf(\"%d\", A[i]);\n",
    "  }\n",
    "  printf(\"\\n+\");\n",
    "  for (int i = 0; i < n; i++) {\n",
    "    printf(\"%d\", B[i]);\n",
    "  }\n",
    "  printf(\"\\n \");\n",
    "  for (int i = 0; i < n + 1; i++) {\n",
    "    printf(\"_\");\n",
    "  }\n",
    "  printf(\"\\n \");\n",
    "\n",
    "  for (int i = 0; i < n + 1; i++) {\n",
    "    printf(\"%d\", C[i]);\n",
    "  }\n",
    "  printf(\"\\n\");\n",
    "\n",
    "  return 0;\n",
    "}"
   ]
  }
 ],
 "metadata": {
  "kernelspec": {
   "display_name": "C",
   "language": "c",
   "name": "c"
  },
  "language_info": {
   "file_extension": ".c",
   "mimetype": "text/x-csrc",
   "name": "text/x-csrc"
  }
 },
 "nbformat": 4,
 "nbformat_minor": 5
}
