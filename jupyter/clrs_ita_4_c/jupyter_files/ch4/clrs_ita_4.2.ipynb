{
 "cells": [
  {
   "cell_type": "markdown",
   "id": "f31282d8-24cd-42bd-a3f7-0b8173d5a6ca",
   "metadata": {},
   "source": [
    "## 4.2-5"
   ]
  },
  {
   "cell_type": "markdown",
   "id": "b5bc3ede-d9a9-463e-8c07-a80f8843e11f",
   "metadata": {},
   "source": [
    "Basically, we want expressions involving \"mixed products\" between the pairs of numbers $(a,b)$ and $(c,d)$. A simple way to obtain these is with expressions of the form\n",
    "\\begin{equation*}(a\\pm b)(c\\pm d)=ac\\pm ad\\pm bc\\pm bd,\\end{equation*}\n",
    "which is computed with only one multiplication. Then we need to get rid of some of the mixed products in the expression above to get to the real and imaginary parts of $(a+bi)(c+di)$. One possibility follows,\n",
    "\n",
    "    COMPLEX-MULTIPLY (a,b,c,d)\n",
    "    1   Let s = a-b and t = c+d\n",
    "    2   Compute x = s*t,\n",
    "                y = a*d,\n",
    "            and z = b*c\n",
    "    3   return x-y+z (real component)\n",
    "           and y+z (imaginary component)"
   ]
  }
 ],
 "metadata": {
  "kernelspec": {
   "display_name": "C",
   "language": "c",
   "name": "c"
  },
  "language_info": {
   "file_extension": ".c",
   "mimetype": "text/x-csrc",
   "name": "text/x-csrc"
  }
 },
 "nbformat": 4,
 "nbformat_minor": 5
}
