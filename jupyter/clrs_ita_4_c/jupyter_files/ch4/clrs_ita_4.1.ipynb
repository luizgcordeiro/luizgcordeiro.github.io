{
 "cells": [
  {
   "cell_type": "markdown",
   "id": "b6a81573-655b-4ebc-b774-c8a557b91f13",
   "metadata": {},
   "source": [
    "# 4.1 Multiplying square matrices"
   ]
  },
  {
   "cell_type": "markdown",
   "id": "ed62254b-a025-404d-9017-459f41a69fa6",
   "metadata": {},
   "source": [
    "Let us implement all matrix multiplication algorithms described in the book for good measure. As in the book, we pass matrices by reference to our functions, and consider only square integer matrices. As a point of interest, let us make it so that each algorithm returns the number of multiplications and additions of numbers that are made.\n",
    "\n",
    "As the recursive case requires considering submatrices, we have two options:\n",
    "\n",
    "1. Create submatrices by allocating new memory and copying entries. This uses more resources, as copying and allocating are considered to be constant-time operations. In this manner, for the matrix $A$,\n",
    "    - All entries will be copied into submatrices of size $n/2$\n",
    "    - All entries will be copied again into submatrices of size $n/4$\n",
    "    - All entries will be copied again into submatrices of size $n/8$\n",
    "    \n",
    "    and so on. This adds up to $\\Theta(n^2\\lg n)$ copies.\n",
    "2. Add more arguments to our function. This is to say that instead of simply giving $A=\\begin{bmatrix}a_{ij}\\end{bmatrix}_{ij}$ as an argument, we given $A,i_1,i_2,j_1$ and $j_2$, to mean that the argument is in fact the submatrix consisting of the entries of $A$ between rows $i_1$ and $i_2$ and columns $j_1$ and $j_2$. This gets us rid of the need of allocating memory and copying entries, but makes the code less readable."
   ]
  },
  {
   "cell_type": "code",
   "execution_count": null,
   "id": "9dd7f7aa-e29c-43c4-a74d-a34a907b6552",
   "metadata": {},
   "outputs": [],
   "source": [
    "#include <stdio.h>\n",
    "\n",
    "int matrix_multiply ( int ** A , int ** B , int ** C , size_t n ) {\n",
    "    int ops=0; // number of operations\n",
    "    size_t i,j,k; // indices\n",
    "    for (i=0;i<n;i++) {\n",
    "        for (j=0;j<n;j++) {\n",
    "            for (k=0;k<n;k++) {\n",
    "                c[i][j] += a[i][j]*b[i][j];\n",
    "                ops+=2;\n",
    "            }\n",
    "        }\n",
    "    }\n",
    "    return ops;\n",
    "}\n",
    "\n",
    "// In the recursive\n",
    "\n",
    "int matrix_multiply_recursive ( int ** A , int ** B , int ** C , size_t n ) {\n",
    "    int ops=0; // number of operations\n",
    "    if (n==1) {\n",
    "        size_t i,j,k; // indices\n",
    "    for (i=0;i<n;i++) {\n",
    "        for (j=0;j<n;j++) {\n",
    "            for (k=0;k<n;k++) {\n",
    "                c[i][j] += a[i][j]*b[i][j];\n",
    "                ops+=2;\n",
    "            }\n",
    "        }\n",
    "    }\n",
    "    return ops;\n",
    "}\n",
    "\n",
    "int main() {\n",
    "    return 0;\n",
    "}"
   ]
  }
 ],
 "metadata": {
  "kernelspec": {
   "display_name": "C",
   "language": "c",
   "name": "c"
  },
  "language_info": {
   "file_extension": ".c",
   "mimetype": "text/x-csrc",
   "name": "text/x-csrc"
  }
 },
 "nbformat": 4,
 "nbformat_minor": 5
}
