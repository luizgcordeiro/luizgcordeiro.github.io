{
 "cells": [
  {
   "cell_type": "markdown",
   "id": "92e22077-7e35-4ecf-ba9b-197fddbd365c",
   "metadata": {},
   "source": [
    "# Chapter 1 - The Role of Algorithms in Computing"
   ]
  }
 ],
 "metadata": {
  "kernelspec": {
   "display_name": "C",
   "language": "c",
   "name": "c"
  },
  "language_info": {
   "file_extension": ".c",
   "mimetype": "text/x-csrc",
   "name": "text/x-csrc"
  }
 },
 "nbformat": 4,
 "nbformat_minor": 5
}
