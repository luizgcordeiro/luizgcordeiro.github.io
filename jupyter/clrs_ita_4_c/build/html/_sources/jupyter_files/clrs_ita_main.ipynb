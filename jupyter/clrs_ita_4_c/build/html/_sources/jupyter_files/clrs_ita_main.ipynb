{
 "cells": [
  {
   "cell_type": "markdown",
   "id": "ad6509c6-a54d-45d2-abb3-83e77de8f1b5",
   "metadata": {},
   "source": [
    "# CLRS - Introduction to Algorithms, 4<sup>th</sup> edition<br/>Solutions and implementations in C"
   ]
  },
  {
   "cell_type": "markdown",
   "id": "2a979c96",
   "metadata": {},
   "source": [
    "This is a guide to Cormen et. al's *Introduction to Algorithms*, 4<sup>th</sup> edition, with proposed solutions to its exercises and implementations of the structures and algorithms in C.\n",
    "\n",
    "This project's goal is threefold:\n",
    "1. To study the content of the book.\n",
    "2. To practice C programming.\n",
    "3. To practice creating and handling Jupyter Notebooks (on which these notes were created).\n",
    "\n",
    "This is created as a [Jupyter Notebook](https://jupyter.org/) with a [C kernel](https://github.com/XaverKlemenschits/jupyter-c-kernel)."
   ]
  }
 ],
 "metadata": {
  "kernelspec": {
   "display_name": "C",
   "language": "c",
   "name": "c"
  },
  "language_info": {
   "file_extension": ".c",
   "mimetype": "text/x-csrc",
   "name": "text/x-csrc"
  },
  "toc-autonumbering": false,
  "toc-showcode": false,
  "toc-showmarkdowntxt": false,
  "toc-showtags": false
 },
 "nbformat": 4,
 "nbformat_minor": 5
}
