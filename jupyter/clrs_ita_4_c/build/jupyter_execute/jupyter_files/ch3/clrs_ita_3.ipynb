{
 "cells": [
  {
   "cell_type": "markdown",
   "id": "6a7a6ec2-550e-4ada-b333-d6753372a58e",
   "metadata": {},
   "source": [
    "# Chapter 3 - Characterizing Running Times"
   ]
  }
 ],
 "metadata": {
  "kernelspec": {
   "display_name": "C",
   "language": "c",
   "name": "c"
  },
  "language_info": {
   "file_extension": ".c",
   "mimetype": "text/x-csrc",
   "name": "text/x-csrc"
  }
 },
 "nbformat": 4,
 "nbformat_minor": 5
}