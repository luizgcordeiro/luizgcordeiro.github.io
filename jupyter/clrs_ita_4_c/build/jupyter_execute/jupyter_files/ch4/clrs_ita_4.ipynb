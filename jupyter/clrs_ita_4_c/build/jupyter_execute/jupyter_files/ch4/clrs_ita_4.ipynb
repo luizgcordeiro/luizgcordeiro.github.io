{
 "cells": [
  {
   "cell_type": "markdown",
   "id": "e9de56ae-62e7-4d23-89e1-4d0af4809cdb",
   "metadata": {},
   "source": [
    "# Chapter 4 - Divide-and-Conquer"
   ]
  }
 ],
 "metadata": {
  "kernelspec": {
   "display_name": "C",
   "language": "c",
   "name": "c"
  },
  "language_info": {
   "file_extension": ".c",
   "mimetype": "text/x-csrc",
   "name": "text/x-csrc"
  }
 },
 "nbformat": 4,
 "nbformat_minor": 5
}