{
 "cells": [
  {
   "cell_type": "markdown",
   "id": "dd634ceb-5053-4c79-90aa-9fdee6ff430e",
   "metadata": {},
   "source": [
    "# 1.2 Algorithms as a technology"
   ]
  },
  {
   "cell_type": "markdown",
   "id": "f5d64d4e-22c6-4257-a9b3-168e293c4a0e",
   "metadata": {},
   "source": [
    "## 1.2-1\n",
    "\n",
    "> Give an example of an application that requires algorithmic content at the application level, and discuss the function of the algorithms involved."
   ]
  },
  {
   "cell_type": "markdown",
   "id": "3f5b0a46-97ba-4435-9a46-37a595d2a945",
   "metadata": {},
   "source": [
    "An application which gives GPS directions. The algorithms involved need to analyse average speed on each part of the route, distance, total time spent, tolls, as well as solving the routing problem itself."
   ]
  },
  {
   "cell_type": "markdown",
   "id": "78b42e26-691b-4e5b-8d9e-4f45bdcec74e",
   "metadata": {},
   "source": [
    "## 1.2-2\n",
    "\n",
    "> Suppose that for inputs of size $n$ on a particular computer, insertion sort runs in $8n^2$ steps and merge sort runs in $64n\\lg n$ steps. For which values of $n$ does insertion sort beat merge sort?"
   ]
  },
  {
   "cell_type": "markdown",
   "id": "ab74c9e8-148c-45f9-aa2e-a8e774a6a677",
   "metadata": {},
   "source": [
    "We need to solve the inequality\n",
    "\\begin{equation*}\n",
    "8n^2 < 64n \\lg n\n",
    "\\end{equation*}\n",
    "\n",
    "Note that\n",
    "\\begin{align*}\n",
    "    8n^2 < 64n \\lg n\n",
    "        &\\iff n < \\lg(n^8)\\\\\n",
    "        &\\iff 2^n < n^8,\\tag{1.2-2.1}\n",
    "\\end{align*}\n",
    "and similar equivalencies hold with reversed inequalities.\n",
    "\n",
    "Of course, we consider only $n\\geq 2$ (otherwise there is nothing to order). Let us implement C code to find the first $n\\geq 2$ for which these inequalities do not hold."
   ]
  },
  {
   "cell_type": "code",
   "execution_count": 1,
   "id": "5de64e86-e4a9-45c2-bf1c-98d4075adc0f",
   "metadata": {},
   "outputs": [
    {
     "name": "stdout",
     "output_type": "stream",
     "text": [
      "The first n for which 2^n>n^8 is n=44.\n",
      "In this case, 2^n = 17592186044416 and n^8=14048223625216.\n"
     ]
    }
   ],
   "source": [
    "#include <stdio.h>\n",
    "\n",
    "unsigned long long pow_long(int m,unsigned int n) {\n",
    "    // Returns m^n for m,n integers, n positive\n",
    "    int i; // index\n",
    "    unsigned long long int p=1; // m^0\n",
    "    for (i=0;i<n;i++) {\n",
    "        p*=m;\n",
    "    }\n",
    "    \n",
    "    return p;\n",
    "}\n",
    "\n",
    "int main() {\n",
    "    int n=2;\n",
    "    while (pow_long(2,n) < pow_long(n,8)) n++;\n",
    "    \n",
    "    printf(\"The first n for which 2^n>n^8 is n=%d.\\nIn this case, 2^n = %lld and n^8=%lld.\\n\",n,pow_long(2,n),pow_long(n,8));\n",
    "    return 0;\n",
    "}"
   ]
  },
  {
   "cell_type": "markdown",
   "id": "14972f0f-2b19-485d-9f81-e07f1e809825",
   "metadata": {},
   "source": [
    "Let us prove that $8n^2>64 n \\lg n$ for all $n\\leq 44$. Equivalently, this is to say (as in Equation (eq.1.2-2.1)) that $2^{n/8}>n$. We already know that this holds for $n=44$. Taking the (continuous) derivative of the left-hand side gives us\n",
    "\\begin{align*}\n",
    "    2^{n/8}\\dfrac{log 2}{8}\n",
    "        & > 2^5 \\dfrac{log 2}{8}\\qquad\\text{(because $n\\geq 44$)}\\\\\n",
    "        & > \\dfrac{2^5}{16}\\qquad\\text{(because $\\log 2 >1/2$)}\\\\\n",
    "        & = 2,\n",
    "\\end{align*}\n",
    "which is greater than $1$, the derivative of $n$. So $2^{n/8}$ grows faster than $n$ for $n\\geq 44$ and the inequality $2^{n/8}>n$ is preserved for all $n\\geq 44$.\n",
    "\n",
    "In summary we have shown that $8n^2<64 n \\lg n$ if, and only if, $n\\leq 43$, and these are the only values of $n$ for which insertion sort beats merge sort (as in the question at hand)."
   ]
  },
  {
   "cell_type": "markdown",
   "id": "b2b72e6a-10de-41c8-b933-bf3552e6a414",
   "metadata": {},
   "source": [
    "## 1.2-3\n",
    "\n",
    "> What is the smallest value of $n$ such that an algorithm whose running time is $100n^2$ runs faster than an algorithm whose running time is $2^n$ on the same machine?"
   ]
  },
  {
   "cell_type": "markdown",
   "id": "3a89a78a-b412-4243-8c68-d3419bd56705",
   "metadata": {},
   "source": [
    "We need to solve the inequality\n",
    "\\begin{equation*}100n^2 < 2^n,\\end{equation*}\n",
    "which can be done by inspection. Again, note taht the problem is only interesting for $n\\geq 1$. For simplicity, let us again write C code for this."
   ]
  },
  {
   "cell_type": "code",
   "execution_count": 2,
   "id": "85332191-05af-4ef8-8065-921bb1f09b41",
   "metadata": {},
   "outputs": [
    {
     "name": "stdout",
     "output_type": "stream",
     "text": [
      "  n | 100n^2 |   2^n\n",
      "---------------------\n",
      "  1 |    100 |     2 \n",
      "  2 |    400 |     4 \n",
      "  3 |    900 |     8 \n",
      "  4 |   1600 |    16 \n",
      "  5 |   2500 |    32 \n",
      "  6 |   3600 |    64 \n",
      "  7 |   4900 |   128 \n",
      "  8 |   6400 |   256 \n",
      "  9 |   8100 |   512 \n",
      " 10 |  10000 |  1024 \n",
      " 11 |  12100 |  2048 \n",
      " 12 |  14400 |  4096 \n",
      " 13 |  16900 |  8192 \n",
      " 14 |  19600 | 16384 \n",
      " 15 |  22500 | 32768 \n"
     ]
    }
   ],
   "source": [
    "#include <stdio.h>\n",
    "\n",
    "int main() {\n",
    "    printf(\"  n | 100n^2 |   2^n\\n\"\n",
    "           \"---------------------\\n\");\n",
    "    int n=1;\n",
    "    long long lhs = 100;\n",
    "    long long rhs = 2; // 2^1\n",
    "    while (lhs>rhs) {\n",
    "        printf(\" %2lld | %6lld | %5lld \\n\",n,lhs,rhs);\n",
    "        n++;\n",
    "        lhs = 100 * n * n;\n",
    "        rhs *= 2;\n",
    "    }\n",
    "    printf(\" %2lld | %6lld | %5lld \\n\",n,lhs,rhs);\n",
    "    \n",
    "    return 0;\n",
    "}"
   ]
  },
  {
   "cell_type": "markdown",
   "id": "03ac144b-64d8-46fb-881f-2bc2319f6280",
   "metadata": {},
   "source": [
    "To finish the question, we simply need to verify that $100n^2<2^n$ for all $n\\geq 15$. Taking logarithms, this is equivalent to verifying that $\\log 100 + 2\\log n < n \\log 2$. We already know (by the table above) that this is true for $n=15$, so we can again compare derivatives: On one hand, for $n\\geq 15$,\n",
    "\\begin{equation*}\n",
    "\\dfrac{d}{dn}(\\log 100 + 2\\log n)=\\dfrac{2}{n}<\\dfrac{1}{4}\\end{equation*}\n",
    "whereas\n",
    "\\begin{equation*}\n",
    "\\dfrac{d}{dn}(n\\log 2)=\\log 2>\\dfrac{1}{2}>\\dfrac{1}{4}.\\end{equation*}\n",
    "\n",
    "Therefore, for $n>=1$ integer, the inequality $100n^2<2^n$ holds if, and only if, $n\\geq 15$."
   ]
  }
 ],
 "metadata": {
  "kernelspec": {
   "display_name": "C",
   "language": "c",
   "name": "c"
  },
  "language_info": {
   "file_extension": ".c",
   "mimetype": "text/x-csrc",
   "name": "text/x-csrc"
  }
 },
 "nbformat": 4,
 "nbformat_minor": 5
}