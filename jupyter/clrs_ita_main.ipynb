{
 "cells": [
  {
   "cell_type": "markdown",
   "id": "15b182bd",
   "metadata": {},
   "source": [
    "# CLRS - *Introduction to Algorithms*, 4<sup>th</sup> edition<br/>Solutions and implementations in C"
   ]
  },
  {
   "cell_type": "markdown",
   "id": "2a979c96",
   "metadata": {},
   "source": [
    "This is a guide to Cormen et. al's *Introduction to Algorithms*, 4<sup>th</sup>, with proposed solutions to its exercises and implementations of the structures and algorithms in C.\n",
    "\n",
    "This project's goal is threefold:\n",
    "1. To study the content of the book.\n",
    "2. To practice C programming.\n",
    "3. To practice creating and handling Jupyter Notebooks (on which these notes were created).\n",
    "\n",
    "This is created as a [Jupyter Notebook](https://jupyter.org/) with a [C kernel](https://github.com/XaverKlemenschits/jupyter-c-kernel)."
   ]
  },
  {
   "cell_type": "markdown",
   "id": "38ab7bbc-ffbd-45f2-9d17-043e8cd15ed8",
   "metadata": {},
   "source": [
    "## Chapter 1 - The Role of Algorithms in Computing"
   ]
  },
  {
   "cell_type": "markdown",
   "id": "eaf08838-3731-4416-95ab-3c464ae9ef80",
   "metadata": {},
   "source": [
    "### 1.1 Algorithms"
   ]
  },
  {
   "cell_type": "markdown",
   "id": "3e58f775-22fc-43fa-be2b-bff060a0982a",
   "metadata": {},
   "source": [
    "#### 1.1-1\n",
    "\n",
    "> Describe your own real-world example that requires sorting. Describe one that requires finding the shortest distance between two points.\n",
    "\n",
    "Sorting clothes by color and/or size before washing. Choosing a route to go to work (or on a trip)."
   ]
  },
  {
   "cell_type": "markdown",
   "id": "c1240254-a65c-459c-9a1a-d0d75168dfd9",
   "metadata": {},
   "source": [
    "#### 1.1-2\n",
    "\n",
    "> Other than speed, what other measures of efficiency might you need to consider in\n",
    "a real-world setting?\n",
    "\n",
    "Cost, precision, ease-of-use, memory consumption."
   ]
  },
  {
   "cell_type": "markdown",
   "id": "36729e44-202b-4512-be8b-5cd5886cc1a6",
   "metadata": {},
   "source": [
    "#### 1.1-3\n",
    "\n",
    "> Select a data structure that you have seen, and discuss its strengths and limitations.\n",
    "\n",
    "Array:\n",
    "\n",
    "- Strength: Easy to access random elements.\n",
    "- Limitation: Needs reallocation for resizing.\n",
    "\n",
    "(Linked list has precisely the opposite strength and limitation.)"
   ]
  },
  {
   "cell_type": "markdown",
   "id": "17c1ffc6-fde8-4c2e-a52a-9918af2e31f4",
   "metadata": {},
   "source": [
    "#### 1.1-4\n",
    "\n",
    "> How are the shortest-path and the traveling-salesman problems given above similar? How are they different?\n",
    "\n",
    "Both problems ask us to find shortest paths in a graph with certain properties.\n",
    "\n",
    "- The shortest-path problem asks for a path that passes through two points. So in the best case cenario it would consist of a single edge.\n",
    "- The traveling-salesman problem looks for a path that passes through all vertices of the graph (and goes back to the beginning). So in the best case cenario it would have length equal to the number of vertices in the graph."
   ]
  },
  {
   "cell_type": "markdown",
   "id": "51e2057a-277f-4f2e-a055-7a9d6def6095",
   "metadata": {},
   "source": [
    "#### 1.1-5\n",
    "\n",
    "> Suggest a real-world problem in which only the best solution will do. Then come up with one in which \\\"approximately\\\" the best solution is good enough.\n",
    "\n",
    "Only the best solution will do for the problem of finding someone's phone number (say to give some important information).\n",
    "\n",
    "An \\\"approximately best\\\" solution will do for the problem of finding the shortest path from home to work."
   ]
  },
  {
   "cell_type": "markdown",
   "id": "738b6f4a-5ca6-4488-a011-48dde912cb95",
   "metadata": {},
   "source": [
    "#### 1.1-6\n",
    "\n",
    "> Describe a real-world problem in which sometimes the entire input is available before you need to solve the problem, but other times the input is not entirely available in advance and arrives over time.\n",
    "\n",
    "The problem of allocating customers to tables in a restaurant. If enough reservations were made in advance, so that the restaurant is full, then the whole input (numbers of groups and their sizes) is available beforehand. If there are free tables, customers need to be allocated to tables as they come in."
   ]
  },
  {
   "cell_type": "markdown",
   "id": "cb205c7c-781c-49df-b823-ddcdb6114c9b",
   "metadata": {},
   "source": [
    "### 1.2 Algorithms as a technology"
   ]
  },
  {
   "cell_type": "markdown",
   "id": "20ce8088-921f-40de-8dd1-028fb0677b11",
   "metadata": {},
   "source": [
    "#### 1.2-1\n",
    "\n",
    "> Give an example of an application that requires algorithmic content at the application level, and discuss the function of the algorithms involved.\n",
    "\n",
    "An application which gives GPS directions. The algorithms involved need to analyse average speed on each part of the route, distance, total time spent, tolls, as well as solving the routing problem itself."
   ]
  },
  {
   "cell_type": "markdown",
   "id": "0867a390-a012-4f2b-8b68-edc00ead1f44",
   "metadata": {},
   "source": [
    "#### 1.2-2\n",
    "\n",
    "> Suppose that for inputs of size $n$ on a particular computer, insertion sort runs in $8n^2$ steps and merge sort runs in $64n\\lg n$ steps. For which values of $n$ does insertion sort beat merge sort?\n",
    "\n",
    "We need to solve the inequality\n",
    "\\begin{equation*}\n",
    "8n^2 < 64n \\lg n\n",
    "\\end{equation*}\n",
    "\n",
    "Note that\n",
    "\\begin{align*}\n",
    "    8n^2 < 64n \\lg n\n",
    "        &\\iff n < \\lg(n^8)\\\\\n",
    "        &\\iff 2^n < n^8,\\tag{1.2-2.1}\n",
    "\\end{align*}\n",
    "and similar equivalencies hold with reversed inequalities.\n",
    "\n",
    "Of course, we consider only $n\\geq 2$ (otherwise there is nothing to order). Let us implement C code to find the first $n\\geq 2$ for which these inequalities do not hold."
   ]
  },
  {
   "cell_type": "code",
   "execution_count": 1,
   "id": "f5fcc86a-d19b-48a0-ac7e-d783f9605638",
   "metadata": {
    "vscode": {
     "languageId": "c"
    }
   },
   "outputs": [
    {
     "name": "stdout",
     "output_type": "stream",
     "text": [
      "The first n for which 2^n>n^8 is n=44.\n",
      "In this case, 2^n = 17592186044416 and n^8=14048223625216.\n"
     ]
    }
   ],
   "source": [
    "#include <stdio.h>\n",
    "\n",
    "long long int pow_int(long long int m,long long int n) {\n",
    "    // Returns m^n for m,n positive integers\n",
    "    int i; // index\n",
    "    long long int p=1; // m^0\n",
    "    for (i=0;i<n;i++) {\n",
    "        p*=m;\n",
    "    }\n",
    "    \n",
    "    return p;\n",
    "}\n",
    "\n",
    "int main() {\n",
    "    long long int n=2;\n",
    "    while (pow_int(2,n) < pow_int(n,8)) n++;\n",
    "    \n",
    "    printf(\"The first n for which 2^n>n^8 is n=%lld.\\nIn this case, 2^n = %lld and n^8=%lld.\\n\",n,pow_int(2,n),pow_int(n,8));\n",
    "    return 0;\n",
    "}"
   ]
  },
  {
   "cell_type": "markdown",
   "id": "8401957d-fdfc-4d76-b4ad-7bba115b7be3",
   "metadata": {},
   "source": [
    "Let us prove that $8n^2>64 n \\lg n$ for all $n\\leq 44$. Equivalently, this is to say (as in Equation (eq.1.2-2.1)) that $2^{n/8}>n$. We already know that this holds for $n=44$. Taking the (continuous) derivative of the left-hand side gives us\n",
    "\\begin{align*}\n",
    "    2^{n/8}\\dfrac{log 2}{8}\n",
    "        & > 2^5 \\dfrac{log 2}{8}\\qquad\\text{(because $n\\geq 44$)}\\\\\n",
    "        & > \\dfrac{2^5}{16}\\qquad\\text{(because $\\log 2 >1/2$)}\\\\\n",
    "        & = 2,\n",
    "\\end{align*}\n",
    "which is greater than $1$, the derivative of $n$. So $2^{n/8}$ grows faster than $n$ for $n\\geq 44$ and the inequality $2^{n/8}>n$ is preserved for all $n\\geq 44$.\n",
    "\n",
    "In summary we have shown that $8n^2<64 n \\lg n$ if, and only if, $n\\leq 43$, and these are the only values of $n$ for which insertion sort beats merge sort (as in the question at hand)."
   ]
  },
  {
   "cell_type": "markdown",
   "id": "dbcc4078-6756-4893-a001-34943320fb97",
   "metadata": {},
   "source": [
    "#### 1.2-3\n",
    "\n",
    "> What is the smallest value of $n$ such that an algorithm whose running time is $100n^2$ runs faster than an algorithm whose running time is $2^n$ on the same machine?\n",
    "\n",
    "We need to solve the inequality\n",
    "\\begin{equation*}100n^2 < 2^n,\\end{equation*}\n",
    "which can be done by inspection. Again, note taht the problem is only interesting for $n\\geq 1$. For simplicity, let us again write C code for this."
   ]
  },
  {
   "cell_type": "code",
   "execution_count": null,
   "id": "e13424f7-6643-407c-abda-77d8318f1f9b",
   "metadata": {
    "vscode": {
     "languageId": "c"
    }
   },
   "outputs": [
    {
     "name": "stdout",
     "output_type": "stream",
     "text": [
      "  n | 100n^2 |   2^n\n",
      "---------------------\n",
      "  1 |    100 |     2 \n",
      "  2 |    400 |     4 \n",
      "  3 |    900 |     8 \n",
      "  4 |   1600 |    16 \n",
      "  5 |   2500 |    32 \n",
      "  6 |   3600 |    64 \n",
      "  7 |   4900 |   128 \n",
      "  8 |   6400 |   256 \n",
      "  9 |   8100 |   512 \n",
      " 10 |  10000 |  1024 \n",
      " 11 |  12100 |  2048 \n",
      " 12 |  14400 |  4096 \n",
      " 13 |  16900 |  8192 \n",
      " 14 |  19600 | 16384 \n",
      " 15 |  22500 | 32768 \n"
     ]
    }
   ],
   "source": [
    "#include <stdio.h>\n",
    "\n",
    "int main() {\n",
    "    printf(\"  n | 100n^2 |   2^n\\n\"\n",
    "           \"---------------------\\n\");\n",
    "    int n=1;\n",
    "    long long lhs = 100;\n",
    "    long long rhs = 2; // 2^1\n",
    "    while (lhs>rhs) {\n",
    "        printf(\" %2lld | %6lld | %5lld \\n\",n,lhs,rhs);\n",
    "        n++;\n",
    "        lhs = 100 * n * n;\n",
    "        rhs *= 2;\n",
    "    }\n",
    "    printf(\" %2lld | %6lld | %5lld \\n\",n,lhs,rhs);\n",
    "    \n",
    "    return 0;\n",
    "}"
   ]
  },
  {
   "cell_type": "markdown",
   "id": "ebdab00a-f186-434f-b922-dbabe5df74f1",
   "metadata": {},
   "source": [
    "To finish the question, we simply need to verify that $100n^2<2^n$ for all $n\\geq 15$. Taking logarithms, this is equivalent to verifying that $\\log 100 + 2\\log n < n \\log 2$. We already know (by the table above) that this is true for $n=15$, so we can again compare derivatives: On one hand, for $n\\geq 15$,\n",
    "\\begin{equation*}\n",
    "\\dfrac{d}{dn}(\\log 100 + 2\\log n)=\\dfrac{2}{n}<\\dfrac{1}{4}\\end{equation*}\n",
    "whereas\n",
    "\\begin{equation*}\n",
    "\\dfrac{d}{dn}(n\\log 2)=\\log 2>\\dfrac{1}{2}>\\dfrac{1}{4}.\\end{equation*}\n",
    "\n",
    "Therefore, for $n>=1$ integer, the inequality $100n^2<2^n$ holds if, and only if, $n\\geq 15$."
   ]
  },
  {
   "cell_type": "markdown",
   "id": "caf47404-d658-486c-a51c-99758cf9d0f3",
   "metadata": {},
   "source": [
    "### Problems"
   ]
  },
  {
   "cell_type": "markdown",
   "id": "fa0579fa-00a1-4ba7-8465-7aba9fac0977",
   "metadata": {},
   "source": [
    "#### 1-1 Comparison of running times\n",
    "\n",
    "> For each function $f(n)$ and time $t$ in the following table, determine the largest size $n$ of a problem that can be solved in time $t$, assuming that the algorithm to solve the problem takes $f(n)$ microseconds.\n",
    ">\n",
    "> |            | 1 second | 1 minute | 1 hour | 1 day | 1 month | 1 year | 1 century |\n",
    "> |------------|----------|----------|--------|-------|---------|--------|-----------|\n",
    "> | $\\lg n$    |          |          |        |       |         |        |           |\n",
    "> | $\\sqrt{n}$ |          |          |        |       |         |        |           |\n",
    "> | $n$        |          |          |        |       |         |        |           |\n",
    "> | $n\\lg n$   |          |          |        |       |         |        |           |\n",
    "> | $n^2$      |          |          |        |       |         |        |           |\n",
    "> | $n^3$      |          |          |        |       |         |        |           |\n",
    "> | $2^n$      |          |          |        |       |         |        |           |\n",
    "> | $n!$       |          |          |        |       |         |        |           |\n",
    "\n",
    "We assume that a month has 30 days and a year has 365 days. Note that $1\\text{ second}=10^6\\text{ microseconds}$. So each time (column) can be rewritten in terms of microseconds.\n",
    "\n",
    "Thus, for each function $f(n)$ and each time $t$, we need to find the largest $n$ for which $f(n)\\leq t$. The first three rows can be solved analitically:\n",
    "\n",
    "- $\\lg n \\leq t\\iff n\\leq 2^t$.\n",
    "- $\\sqrt{n} \\leq t \\iff n \\leq t^2$.\n",
    "- $n\\leq t$ is already solved.\n",
    "\n",
    "The other rows need to be solved computationally. We implement C code to complete the table."
   ]
  },
  {
   "cell_type": "code",
   "execution_count": 17,
   "id": "a2e56c72-939e-4a9b-be8b-e121fae7cae4",
   "metadata": {
    "vscode": {
     "languageId": "c"
    }
   },
   "outputs": [
    {
     "name": "stdout",
     "output_type": "stream",
     "text": [
      "|            |         1 second |          1 minute |              1 hour |                1 day |                1 month |                  1 year |                 1 century |\n",
      "|        --- |              --- |               --- |                 --- |                  --- |                    --- |                     --- |                       --- |\n",
      "|    $\\lg n$ |    $2^{1000000}$ |    $2^{60000000}$ |    $2^{3600000000}$ |    $2^{86400000000}$ |    $2^{2592000000000}$ |    $2^{31536000000000}$ |    $2^{3153600000000000}$ |\n",
      "| $\\sqrt{n}$ | $\\sqrt{1000000}$ | $\\sqrt{60000000}$ | $\\sqrt{3600000000}$ | $\\sqrt{86400000000}$ | $\\sqrt{2592000000000}$ | $\\sqrt{31536000000000}$ | $\\sqrt{3153600000000000}$ |\n",
      "|        $n$ |        $1000000$ |        $60000000$ |        $3600000000$ |        $86400000000$ |        $2592000000000$ |        $31536000000000$ |        $3153600000000000$ |\n",
      "|   $n\\lg n$ |            62746 |           2801417 |           133378058 |           2755147513 |            71870856404 |            797633893349 |            68610956750570 |\n",
      "|      $n^2$ |             1000 |              7745 |               60000 |               293938 |                1609968 |                 5615692 |                  56156922 |\n",
      "|      $n^3$ |              100 |               391 |                1532 |                 4420 |                  13736 |                   31593 |                    146645 |\n",
      "|      $2^n$ |               19 |                25 |                  31 |                   36 |                     41 |                      44 |                        51 |\n",
      "|       $n!$ |                9 |                11 |                  12 |                   13 |                     15 |                      16 |                        17 |\n"
     ]
    }
   ],
   "source": [
    "#include <stdio.h>\n",
    "#include <math.h>\n",
    "\n",
    "unsigned long long int pow2( int n ) {\n",
    "    if (n==0) {\n",
    "        return 1;\n",
    "    }\n",
    "    return 2*pow2(n-1);\n",
    "}\n",
    "\n",
    "unsigned long long int Pow10( int n ) {\n",
    "    if (n==0) {\n",
    "        return 1;\n",
    "    }\n",
    "    return 10*Pow10(n-1);\n",
    "}\n",
    "\n",
    "unsigned long long fact( int n ) {\n",
    "    if (n==1) {\n",
    "        return 1;\n",
    "    }\n",
    "    return n*fact(n-1);\n",
    "}\n",
    "\n",
    "int main () {\n",
    "    int i,j; // index\n",
    "    unsigned long long times[7] = {Pow10(6), // 1 second = 10^6 usec\n",
    "                                   Pow10(6)*60, // 1 minute = 6*10^7 usec\n",
    "                                   Pow10(6)*60*60, // 1 hour = 36 * 10^8 usec\n",
    "                                   Pow10(6)*60*60*24, // 1 day = 864 * 10^8 usec\n",
    "                                   Pow10(6)*60*60*24*30, // 1 month = 2592 * 10^9 usec\n",
    "                                   Pow10(6)*60*60*24*365, // 1 year = 31536 * 10^9 usec\n",
    "                                   Pow10(6)*60*60*24*365*100 // 1 century = 31536 * 10^11 usec\n",
    "                                   };\n",
    "    unsigned long long t;\n",
    "    char format_string[20];\n",
    "    int col_widths[7] = {16,17,19,20,22,23,25};\n",
    "    int first_col_width = 10;\n",
    "    \n",
    "    char initial_rows[5][8][30]={\n",
    "            {\"\",\"1 second\",\"1 minute\",\"1 hour\",\"1 day\",\"1 month\",\"1 year\",\"1 century\"},\n",
    "            {\"---\",\"---\",\"---\",\"---\",\"---\",\"---\",\"---\",\"---\"},\n",
    "            {\"$\\\\lg n$\"},\n",
    "            {\"$\\\\sqrt{n}$\"},\n",
    "            {\"$n$\"},\n",
    "        };\n",
    "    \n",
    "    for (i=1;i<8;i++) {\n",
    "        sprintf(initial_rows[2][i],\"$2^{%llu}$\",times[i-1]);\n",
    "        sprintf(initial_rows[3][i],\"$\\\\sqrt{%llu}$\",times[i-1]);\n",
    "        sprintf(initial_rows[4][i],\"$%llu$\",times[i-1]);\n",
    "    }\n",
    "    for (i=0;i<5;i++) {\n",
    "        printf(\"|\");\n",
    "        // Little trick to allow printing formatted string with parameters in a variable\n",
    "        sprintf(format_string,\" %c%ds |\",'%',first_col_width);\n",
    "        printf(format_string,initial_rows[i][0]);\n",
    "        for (j=1;j<8;j++) {\n",
    "            sprintf(format_string,\" %c%ds |\",'%',col_widths[j-1]);\n",
    "            printf(format_string,initial_rows[i][j]);\n",
    "        }\n",
    "        printf(\"\\n\");\n",
    "    }\n",
    "    \n",
    "    // For the next ones, the largest n for which f(n)<=t will be found with the bisection method.\n",
    "    // We can use the interval [0,t], as the functions always satisfy f(t)>t>f(0)=1 or 0\n",
    "    unsigned long long n_l,n_u,mi; //lower n, upper n, middle\n",
    "    \n",
    "    // Solve n lg n <=t\n",
    "    \n",
    "    sprintf(format_string,\"| %c%ds |\",'%',first_col_width);\n",
    "    printf(format_string,\"$n\\\\lg n$\");\n",
    "    for (i=0;i<7;i++) {\n",
    "        t=  times[i];\n",
    "        n_l = 0;\n",
    "        n_u = t;\n",
    "        while (n_l+1<n_u) {\n",
    "            mi = (n_l+n_u)/2;\n",
    "             if (mi * log2((double)mi) <= t) {\n",
    "                n_l=mi;\n",
    "            } else {\n",
    "                n_u=mi;\n",
    "            }\n",
    "        }\n",
    "        \n",
    "        sprintf(format_string,\" %c%dllu |\",'%',col_widths[i]);\n",
    "        printf(format_string,n_l);\n",
    "    }\n",
    "    \n",
    "    printf(\"\\n\");\n",
    "        \n",
    "    // Solve n^2 <=t\n",
    "    \n",
    "    sprintf(format_string,\"| %c%ds |\",'%',first_col_width);\n",
    "    printf(format_string,\"$n^2$\");\n",
    "    for (i=0;i<7;i++) {\n",
    "        t=  times[i];\n",
    "        n_l = 0;\n",
    "        n_u = t;\n",
    "        while (n_l+1<n_u) {\n",
    "            mi = (n_l+n_u)/2;\n",
    "             if (mi * mi <= t) {\n",
    "                n_l=mi;\n",
    "            } else {\n",
    "                n_u=mi;\n",
    "            }\n",
    "        }\n",
    "        \n",
    "        sprintf(format_string,\" %c%dllu |\",'%',col_widths[i]);\n",
    "        printf(format_string,n_l);\n",
    "    }\n",
    "    \n",
    "    printf(\"\\n\");\n",
    "        \n",
    "    // Solve n^3 <=t\n",
    "    \n",
    "    sprintf(format_string,\"| %c%ds |\",'%',first_col_width);\n",
    "    printf(format_string,\"$n^3$\");\n",
    "    for (i=0;i<7;i++) {\n",
    "        t=  times[i];\n",
    "        n_l = 0;\n",
    "        n_u = t;\n",
    "        while (n_l+1<n_u) {\n",
    "            mi = (n_l+n_u)/2;\n",
    "             if (mi * mi * mi<= t) {\n",
    "                n_l=mi;\n",
    "            } else {\n",
    "                n_u=mi;\n",
    "            }\n",
    "        }\n",
    "        \n",
    "        sprintf(format_string,\" %c%dllu |\",'%',col_widths[i]);\n",
    "        printf(format_string,n_l);\n",
    "    }\n",
    "    \n",
    "    printf(\"\\n\");\n",
    "        \n",
    "    // Solve 2^n <=t\n",
    "    \n",
    "    sprintf(format_string,\"| %c%ds |\",'%',first_col_width);\n",
    "    printf(format_string,\"$2^n$\");\n",
    "    for (i=0;i<7;i++) {\n",
    "        t=  times[i];\n",
    "        n_l = 0;\n",
    "        /*\n",
    "            Here, taking n_u = t would entail calculating 2^t, which is too large.\n",
    "            We can choose a smaller upper bound: The largest t is\n",
    "                t = 10^6*60*60*24*365*100\n",
    "                  = (2^6 * 5^6) *(3 * 5 * 2^2) * (3 * 5 * 2^2) * (2^3 * 3) * (73 * 5) * (2^2 * 5^2)\n",
    "                  = 2^15 * 3^3 * 5^11 * 73\n",
    "                  < 2^15 * 3^3 * (5^3)^4 * 73\n",
    "                  = 2^15 * 27 * (125)^4 * 73\n",
    "                  < 2^15 * 32 * (128)^4 * 128\n",
    "                  = 2^15 * 2^5 * (2^7)^4 * 2^7\n",
    "                  = 2^55\n",
    "            so taking n_u=55 is more than enough.\n",
    "        */\n",
    "        n_u = 55;\n",
    "        while (n_l+1<n_u) {\n",
    "            mi = (n_l+n_u)/2;\n",
    "             if (pow2(mi)<= t) {\n",
    "                n_l=mi;\n",
    "            } else {\n",
    "                n_u=mi;\n",
    "            }\n",
    "        }\n",
    "        \n",
    "        sprintf(format_string,\" %c%dllu |\",'%',col_widths[i]);\n",
    "        printf(format_string,n_l);\n",
    "    }\n",
    "    \n",
    "    printf(\"\\n\");\n",
    "    \n",
    "    // Solve n! <=t\n",
    "    \n",
    "    sprintf(format_string,\"| %c%ds |\",'%',first_col_width);\n",
    "    printf(format_string,\"$n!$\");\n",
    "    \n",
    "    /*\n",
    "        In this case, as factorials grow extremely fast, we can simply do a linear search starting at 1.\n",
    "        \n",
    "        Compiling the previous row already lets us know that n<=51 (as we also know that 51!>2^51, clearly).\n",
    "        \n",
    "        We could also implement factorials implicity here for better performance, but the code below is more readable.\n",
    "    */\n",
    "    n_l=1;\n",
    "    \n",
    "    for (i=0;i<7;i++) {\n",
    "        t = times[i];\n",
    "        \n",
    "        while (fact(n_l)<=t) n_l++;\n",
    "        sprintf(format_string,\" %c%dllu |\",'%',col_widths[i]);\n",
    "        printf(format_string,n_l-1);\n",
    "    }\n",
    "    \n",
    "    printf(\"\\n\");  \n",
    "    /*\n",
    "    | lg(n)    | 2^(10^6) | 2^(6*10^7) | 2^(36*10^8) | 2^(864*10^8) | 2^(2592*10^9) | 2^(31536*10^9) | 2^(31536*10^11) |\n",
    "    | sqrt(n)  | 10^12    | (6*10^7)^2 | (36*10^8)^2 | (864*10^8)^2 | (2592*10^9)^2 | (31536*10^9)^2 | (31536*10^11)^2 |\n",
    "    | n        | 10^6     | (6*10^7)   | (36*10^8)   | (864*10^8)   | (2592*10^9)   | (31536*10^9)   | (31536*10^11)   |\n",
    "    | n lg(n)* | 62746    | 2801417    | 133378058   | 2755147513   | 71870856404   | 797633893349   | 68610956750570  |\n",
    "    | n^2*     | 10^3     | 7745       | 60000       | 293938       | 1609968       | 5615692        | 56156922        |\n",
    "    | n^3*     | 10^2     | 391        | 1532        | 4420         | 13736         | 31593          | 146645          |\n",
    "    | 2^n*     | 19       | 25         | 31          | 36           | 41            | 44             | 51              |\n",
    "    | n!*      | 9        | 11         | 12          | 13           | 15            | 16             | 17              |\n",
    "     ---------- ---------- ------------ ------------- -------------- --------------- ---------------- -----------------\n",
    "    */\n",
    "    \n",
    "    \n",
    "    return 0;\n",
    "}     "
   ]
  },
  {
   "cell_type": "markdown",
   "id": "a8136809-026b-4348-a285-3f831f8722e1",
   "metadata": {},
   "source": [
    "Thus, the completed table is\n",
    "\n",
    "|            |         1 second |          1 minute |              1 hour |                1 day |                1 month |                  1 year |                 1 century |\n",
    "|        --- |              --- |               --- |                 --- |                  --- |                    --- |                     --- |                       --- |\n",
    "|    $\\lg n$ |    $2^{1000000}$ |    $2^{60000000}$ |    $2^{3600000000}$ |    $2^{86400000000}$ |    $2^{2592000000000}$ |    $2^{31536000000000}$ |    $2^{3153600000000000}$ |\n",
    "| $\\sqrt{n}$ | $\\sqrt{1000000}$ | $\\sqrt{60000000}$ | $\\sqrt{3600000000}$ | $\\sqrt{86400000000}$ | $\\sqrt{2592000000000}$ | $\\sqrt{31536000000000}$ | $\\sqrt{3153600000000000}$ |\n",
    "|        $n$ |        $1000000$ |        $60000000$ |        $3600000000$ |        $86400000000$ |        $2592000000000$ |        $31536000000000$ |        $3153600000000000$ |\n",
    "|   $n\\lg n$ |            62746 |           2801417 |           133378058 |           2755147513 |            71870856404 |            797633893349 |            68610956750570 |\n",
    "|      $n^2$ |             1000 |              7745 |               60000 |               293938 |                1609968 |                 5615692 |                  56156922 |\n",
    "|      $n^3$ |              100 |               391 |                1532 |                 4420 |                  13736 |                   31593 |                    146645 |\n",
    "|      $2^n$ |               19 |                25 |                  31 |                   36 |                     41 |                      44 |                        51 |\n",
    "|       $n!$ |                9 |                11 |                  12 |                   13 |                     15 |                      16 |                        17 |"
   ]
  },
  {
   "cell_type": "markdown",
   "id": "65f71c1e",
   "metadata": {},
   "source": [
    "## Chapter 2 - Getting Started"
   ]
  },
  {
   "attachments": {},
   "cell_type": "markdown",
   "id": "de445531",
   "metadata": {},
   "source": [
    "### 2.1 Insertion sort"
   ]
  },
  {
   "attachments": {},
   "cell_type": "markdown",
   "id": "6b5d7b9d",
   "metadata": {},
   "source": [
    "We start by implementing and testing INSERTION-SORT. For simplicity, we apply it to integer arrays."
   ]
  },
  {
   "cell_type": "code",
   "execution_count": 12,
   "id": "52b9566a",
   "metadata": {
    "vscode": {
     "languageId": "c"
    }
   },
   "outputs": [
    {
     "name": "stdout",
     "output_type": "stream",
     "text": [
      "Array created:\n",
      "  4, 0, 4, -10, 1, 4, 0, 6, 8, 6.\n",
      "\n",
      "Ordered array:\n",
      "  -10, 0, 0, 1, 4, 4, 4, 6, 6, 8.\n"
     ]
    }
   ],
   "source": [
    "/*\n",
    "    Headers only needed for tests\n",
    "*/\n",
    "#include <stdio.h>\n",
    "#include <time.h>\n",
    "\n",
    "void insertion_sort(int *A, size_t n) {\n",
    "  // Insertion sort on an integer array of length n\n",
    "\n",
    "  int i,j; // Indices\n",
    "  int key;\n",
    "  for (j = 1; j < n; j++) {\n",
    "    key = A[j];\n",
    "    i = j - 1;\n",
    "    while (i >= 0 && A[i] > key) {\n",
    "      A[i + 1] = A[i];\n",
    "      i--;\n",
    "    }\n",
    "\n",
    "    A[i + 1] = key;\n",
    "  }\n",
    "}\n",
    "\n",
    "// Test code below\n",
    "\n",
    "int main() {\n",
    "    int i; // Index\n",
    "    int n=10; // Test size\n",
    "\n",
    "    srand(time(NULL));\n",
    "    \n",
    "    // Dinamically allocate random integer array\n",
    "    int * A = malloc(n*sizeof(int));\n",
    "    for (i=0;i<n;i++) {\n",
    "        A[i] = rand()%21 - 10;\n",
    "    }\n",
    "    \n",
    "    printf(\"Array created:\\n  \");\n",
    "    for (i=0;i<n-1;i++) {\n",
    "        printf(\"%d, \",A[i]);\n",
    "    }\n",
    "    printf(\"%d.\\n\\n\",A[i]);\n",
    "    \n",
    "    insertion_sort( A , n );\n",
    "    printf(\"Ordered array:\\n  \");\n",
    "    for (i=0;i<n-1;i++) {\n",
    "        printf(\"%d, \",A[i]);\n",
    "    }\n",
    "    printf(\"%d.\\n\",A[i]);\n",
    "\n",
    "    free(A);\n",
    "    \n",
    "    return 0;\n",
    "}"
   ]
  },
  {
   "attachments": {},
   "cell_type": "markdown",
   "id": "ee6cdc08",
   "metadata": {},
   "source": [
    "#### 2.1-1\n",
    "\n",
    "> Using Figure 2.2 as a model, illustrate the operation of `INSERTION-SORT` on an array initially containing the sequence $\\langle 31,41,59,26,41,58\\rangle$.\n"
   ]
  },
  {
   "attachments": {},
   "cell_type": "markdown",
   "id": "b0ef1112",
   "metadata": {},
   "source": [
    "![compiled image for exercise 2.1-1](images/2.1-1.png)"
   ]
  },
  {
   "attachments": {},
   "cell_type": "markdown",
   "id": "2e4e43ea",
   "metadata": {},
   "source": [
    "The image above was made with the following TikZ code:\n",
    "\n",
    "    \\begin{tikzpicture}[scale=0.7]\n",
    "        \\node at (-1,0) {(a)};\n",
    "        \\draw[fill=orange!40!white] (-0.5,-0.5) rectangle (0.5,0.5);\n",
    "        \\node (1) at (0,0) {31};\n",
    "        \\draw[fill=blue!40!white] (0.5,-0.5) rectangle (1.5,0.5);\n",
    "        \\node (2) at (1,0) {41};\n",
    "        \\draw (1.5,-0.5) rectangle (2.5,0.5);\n",
    "        \\node (3) at (2,0) {59};\n",
    "        \\draw (2.5,-0.5) rectangle (3.5,0.5);\n",
    "        \\node (4) at (3,0) {26};\n",
    "        \\draw (3.5,-0.5) rectangle (4.5,0.5);\n",
    "        \\node (5) at (4,0) {41};\n",
    "        \\draw (4.5,-0.5) rectangle (5.5,0.5);\n",
    "        \\node (6) at (5,0) {58};\n",
    "        \n",
    "        \\draw[->,color=blue] (1.25,-0.5) to[out=270,in=-90,looseness=3] (0.75,-0.5);\n",
    "    \\end{tikzpicture}\n",
    "\n",
    "    \\begin{tikzpicture}[scale=0.7]\n",
    "        \\node at (-1,0) {(b)};\n",
    "        \\draw[fill=orange!40!white] (-0.5,-0.5) rectangle (0.5,0.5);\n",
    "        \\node (1) at (0,0) {31};\n",
    "        \\draw[fill=orange!40!white] (0.5,-0.5) rectangle (1.5,0.5);\n",
    "        \\node (2) at (1,0) {41};\n",
    "        \\draw[fill=blue!40!white] (1.5,-0.5) rectangle (2.5,0.5);\n",
    "        \\node (3) at (2,0) {59};\n",
    "        \\draw (2.5,-0.5) rectangle (3.5,0.5);\n",
    "        \\node (4) at (3,0) {26};\n",
    "        \\draw (3.5,-0.5) rectangle (4.5,0.5);\n",
    "        \\node (5) at (4,0) {41};\n",
    "        \\draw (4.5,-0.5) rectangle (5.5,0.5);\n",
    "        \\node (6) at (5,0) {58};\n",
    "        \n",
    "        \\draw[->,color=blue] (2.25,-0.5) to[out=270,in=-90,looseness=3] (1.75,-0.5);\n",
    "    \\end{tikzpicture}\n",
    "\n",
    "    \\begin{tikzpicture}[scale=0.7]\n",
    "        \\node at (-1,0) {(c)};\n",
    "        \\draw[fill=orange!40!white] (-0.5,-0.5) rectangle (0.5,0.5);\n",
    "        \\node (1) at (0,0) {31};\n",
    "        \\draw[fill=orange!40!white] (0.5,-0.5) rectangle (1.5,0.5);\n",
    "        \\node (2) at (1,0) {41};\n",
    "        \\draw[fill=orange!40!white] (1.5,-0.5) rectangle (2.5,0.5);\n",
    "        \\node (3) at (2,0) {59};\n",
    "        \\draw[fill=blue!40!white] (2.5,-0.5) rectangle (3.5,0.5);\n",
    "        \\node (4) at (3,0) {26};\n",
    "        \\draw (3.5,-0.5) rectangle (4.5,0.5);\n",
    "        \\node (5) at (4,0) {41};\n",
    "        \\draw (4.5,-0.5) rectangle (5.5,0.5);\n",
    "        \\node (6) at (5,0) {58};\n",
    "        \n",
    "        \\draw[->,color=blue] (3.25,-0.5) to[out=270,in=-90,looseness=1] (-0.25,-0.5);\n",
    "        \\draw[->,color=orange] (0.25,-0.5) to[out=270,in=-90,looseness=3] (0.75,-0.5);\n",
    "        \\draw[->,color=orange] (1.25,-0.5) to[out=270,in=-90,looseness=3] (1.75,-0.5);\n",
    "        \\draw[->,color=orange] (2.25,-0.5) to[out=270,in=-90,looseness=3] (2.75,-0.5);\n",
    "    \\end{tikzpicture}\n",
    "\n",
    "    \\begin{tikzpicture}[scale=0.7]\n",
    "        \\node at (-1,0) {(d)};\n",
    "        \\draw[fill=orange!40!white] (-0.5,-0.5) rectangle (0.5,0.5);\n",
    "        \\node (1) at (0,0) {26};\n",
    "        \\draw[fill=orange!40!white] (0.5,-0.5) rectangle (1.5,0.5);\n",
    "        \\node (2) at (1,0) {31};\n",
    "        \\draw[fill=orange!40!white] (1.5,-0.5) rectangle (2.5,0.5);\n",
    "        \\node (3) at (2,0) {41};\n",
    "        \\draw[fill=orange!40!white] (2.5,-0.5) rectangle (3.5,0.5);\n",
    "        \\node (4) at (3,0) {59};\n",
    "        \\draw[fill=blue!40!white] (3.5,-0.5) rectangle (4.5,0.5);\n",
    "        \\node (5) at (4,0) {41};\n",
    "        \\draw (4.5,-0.5) rectangle (5.5,0.5);\n",
    "        \\node (6) at (5,0) {58};\n",
    "        \n",
    "        \\draw[->,color=blue] (4.25,-0.5) to[out=270,in=-90,looseness=2] (2.75,-0.5);\n",
    "        \\draw[->,color=orange] (3.25,-0.5) to[out=270,in=-90,looseness=3] (3.75,-0.5);\n",
    "    \\end{tikzpicture}\n",
    "\n",
    "    \\begin{tikzpicture}[scale=0.7]\n",
    "        \\node at (-1,0) {(e)};\n",
    "        \\draw[fill=orange!40!white] (-0.5,-0.5) rectangle (0.5,0.5);\n",
    "        \\node (1) at (0,0) {26};\n",
    "        \\draw[fill=orange!40!white] (0.5,-0.5) rectangle (1.5,0.5);\n",
    "        \\node (2) at (1,0) {31};\n",
    "        \\draw[fill=orange!40!white] (1.5,-0.5) rectangle (2.5,0.5);\n",
    "        \\node (3) at (2,0) {41};\n",
    "        \\draw[fill=orange!40!white] (2.5,-0.5) rectangle (3.5,0.5);\n",
    "        \\node (4) at (3,0) {41};\n",
    "        \\draw[fill=orange!40!white] (3.5,-0.5) rectangle (4.5,0.5);\n",
    "        \\node (5) at (4,0) {59};\n",
    "        \\draw[fill=blue!40!white] (4.5,-0.5) rectangle (5.5,0.5);\n",
    "        \\node (6) at (5,0) {58};\n",
    "        \n",
    "        \\draw[->,color=blue] (5.25,-0.5) to[out=270,in=-90,looseness=2] (3.75,-0.5);\n",
    "        \\draw[->,color=orange] (4.25,-0.5) to[out=270,in=-90,looseness=3] (4.75,-0.5);\n",
    "    \\end{tikzpicture}"
   ]
  },
  {
   "attachments": {},
   "cell_type": "markdown",
   "id": "3161d4bd",
   "metadata": {},
   "source": [
    "#### 2.1-2\n",
    "\n",
    "> Consider the procedure `SUM-ARRAY` on the facing page. It computes the sum of the $n$ numbers in array $A[1:n]$. State a loop invariant for this procedure, and use its initialization, maintenance, and termination properties to show that the `SUM-ARRAY` procedure returns the sum of the numbers in A[1:n].\n",
    ">\n",
    ">>     SUM-ARRAY(A,n)\n",
    ">>     1. sum=0\n",
    ">>     2. for i=1 to n\n",
    ">>     3.     sum = sum + A[i]\n",
    ">>     4. return sum"
   ]
  },
  {
   "attachments": {},
   "cell_type": "markdown",
   "id": "f60f3344",
   "metadata": {},
   "source": [
    "- **Loop invariant**: At the start of the $i$-th iteration, `sum` stores the sum of the elements of $A[1:i-1]$\n",
    "- **Initialization**: Trivial (vacuous) for $i=1$.\n",
    "- **Maintenance**: Suppose the invariant was true before the $i$-th iteration. This means that in line 2 `sum` stores the sum of the elements in $A[1:i-1]$. In line 3, the value $A[i]$ is added to `sum`, so now it stores the sum of the elements in $A[1:i]$, i.e., of the elements in $A[1:(i+1)-1]$. After line 3 the loop goes to the next iteration, so incrementing $i$ for the next iteration of the loop preserves the loop invariant.\n",
    "- **Termination**: The loop terminates when $i=n+1$. Substituting this value in the loop invariant, we obtain that `sum` stores the sum of the elements of $A[1:n]$, and this is the value that the algorithm returns (as per line 4.)."
   ]
  },
  {
   "attachments": {},
   "cell_type": "markdown",
   "id": "95b4dfe9",
   "metadata": {},
   "source": [
    "#### 2.1-3\n",
    "\n",
    "> Rewrite the `INSERTION-SORT` procedure to sort into monotonically decreasing instead of monotonically increasing order."
   ]
  },
  {
   "attachments": {},
   "cell_type": "markdown",
   "id": "f44cbef1",
   "metadata": {},
   "source": [
    "Simply substitute \"$A[i]>key$\" by \"$A[i]<key$\" in line 5. of the procedure (p. 19). C implementation below."
   ]
  },
  {
   "cell_type": "code",
   "execution_count": 11,
   "id": "91837766",
   "metadata": {
    "vscode": {
     "languageId": "c"
    }
   },
   "outputs": [
    {
     "name": "stdout",
     "output_type": "stream",
     "text": [
      "Array created:\n",
      "  -2, 0, 3, -7, -8, 0, -1, -5, -6, 6.\n",
      "\n",
      "Monotonically decreasing array:\n",
      "  6, 3, 0, 0, -1, -2, -5, -6, -7, -8.\n"
     ]
    }
   ],
   "source": [
    "/*\n",
    "    Headers only needed for tests\n",
    "*/\n",
    "#include <stdio.h>\n",
    "#include <time.h>\n",
    "\n",
    "void insertion_sort_reversed(int *A, size_t n) {\n",
    "  int i,j; // Indices\n",
    "  int key;\n",
    "  for (j = 1; j < n; j++) {\n",
    "    key = A[j];\n",
    "    i = j - 1;\n",
    "    while (i >= 0 && A[i] < key) {\n",
    "      A[i + 1] = A[i];\n",
    "      i--;\n",
    "    }\n",
    "\n",
    "    A[i + 1] = key;\n",
    "  }\n",
    "}\n",
    "\n",
    "// Test code below\n",
    "\n",
    "int main() {\n",
    "    int i; // Index\n",
    "    int n=10; // Test size\n",
    "\n",
    "    srand(time(NULL));\n",
    "    \n",
    "    // Dinamically allocate random integer array\n",
    "    int * A = malloc(n*sizeof(int));\n",
    "    for (i=0;i<n;i++) {\n",
    "        A[i] = rand()%21 - 10;\n",
    "    }\n",
    "    \n",
    "    printf(\"Array created:\\n  \");\n",
    "    for (i=0;i<n-1;i++) {\n",
    "        printf(\"%d, \",A[i]);\n",
    "    }\n",
    "    printf(\"%d.\\n\\n\",A[i]);\n",
    "    \n",
    "    insertion_sort_reversed( A , n );\n",
    "    printf(\"Monotonically decreasing array:\\n  \");\n",
    "    for (i=0;i<n-1;i++) {\n",
    "        printf(\"%d, \",A[i]);\n",
    "    }\n",
    "    printf(\"%d.\\n\",A[i]);\n",
    "\n",
    "    free(A);\n",
    "    \n",
    "    return 0;\n",
    "}\n"
   ]
  },
  {
   "attachments": {},
   "cell_type": "markdown",
   "id": "25cc903e",
   "metadata": {},
   "source": [
    "#### 2.1-4\n",
    "\n",
    "> Consider the ***searching problem***:\n",
    ">\n",
    "> - **Input**: A sequence of $n$ numbers $A=\\langle a_1,a_2,\\ldots,a_n\\rangle$ stored in array $A[1:n]$ and a value $x$.\n",
    "> - **Output**: An index $i$ such that $x$ equals $A[i]$ or the special value `NIL` if $x$ does not appear in $A$.\n",
    ">\n",
    "> Write pseudocode for **`LINEAR SEARCH`**, which scans through the array from beginning to end, looking for $x$. Using a loop invariant, prove that your algorithm is correct. Make sure that your loop invariant fulfills the three necessary properties."
   ]
  },
  {
   "cell_type": "markdown",
   "id": "00254057",
   "metadata": {},
   "source": [
    "**Pseudocode**:\n",
    ">     LINEAR-SEARCH(A,n,x)\n",
    ">     1. for j=1 to n\n",
    ">     2. if x=A[j]\n",
    ">     3.    return j\n",
    ">     4. return NIL\n",
    "\n",
    "- **Loop invariant**: At the start of the $j$-th iteration, $x$ does not appear in $A[1..j-1]$.\n",
    "- **Initialization**: Trivial (vacuous) for j=1.\n",
    "- **Maintenance**: Suppose the invariant was true at the start of the $j$-th iteration and that we are at the start of the $(j+1)$-th iteration. This means that the procedure did not return during the $j$-th iteration, i.e., that the condition \"$x=A[j]$\" is not true. Thus $x$ is not $A[j]$, nor does it appear in $A[1..j-1]$ (by hypothesis), so it does not appear in $A[1..j]=A[1..((j+1)-1)]$, as desired (the loop invariant at step $j+1$).\n",
    "- **Termination**: The loop terminates under two possibilities:\n",
    "  - 1<sup>st</sup>: It returns a value during some iteration, which only happens if \"$x=A[j]$\" evaluates to `True` for some $j$. In this case, \"$x=A[j']$\" does not evaluate to `True` for any $j'<j$. So, in this case, the process actually returns the ***first*** index $j$ for which $x=A[j]$ (and not just any such index). This is the desired output for our algorithm.\n",
    "  - 2<sup>nd</sup>: $j$ gets to $n+1$. The loop invariant then tells us that $x$ does not appear in $A[1..n]$, and the process returns `NIL`, which is also the desired output for our algorithm in this case.\n",
    "\n",
    "C implementation below. Swap `NIL` for $-1$. (Since `size_t` is unsigned, we use `int` instead.)\n"
   ]
  },
  {
   "cell_type": "code",
   "execution_count": 19,
   "id": "c6a8f302",
   "metadata": {
    "vscode": {
     "languageId": "c"
    }
   },
   "outputs": [
    {
     "name": "stdout",
     "output_type": "stream",
     "text": [
      "Array created:\n",
      "  -5, -5, -3, 5, 2, -3, -2, -5, -1, -4.\n",
      "\n",
      "Key: 1\n",
      "\n",
      "The key was not found.\n"
     ]
    }
   ],
   "source": [
    "/*\n",
    "    Headers only needed for tests\n",
    "*/\n",
    "#include <stdio.h>\n",
    "#include <time.h>\n",
    "\n",
    "int linear_search(int *A , int n , int x) {\n",
    "  int j; // Index\n",
    "  for (j = 0; j < n; j++) {\n",
    "    if (x==A[j]) {\n",
    "      return j;\n",
    "    }\n",
    "  }\n",
    "  return -1;\n",
    "}\n",
    "\n",
    "// Test code below\n",
    "\n",
    "int main() {\n",
    "    srand(time(NULL));\n",
    "\n",
    "    int i,index; // Index\n",
    "    int n=10; // Test size\n",
    "    int x = rand()%10; // key\n",
    "\n",
    "    \n",
    "    // Dinamically allocate random integer array\n",
    "    int * A = malloc(n*sizeof(int));\n",
    "    for (i=0;i<n;i++) {\n",
    "        A[i] = rand()%11 - 5;\n",
    "    }\n",
    "    \n",
    "    printf(\"Array created:\\n  \");\n",
    "    for (i=0;i<n-1;i++) {\n",
    "        printf(\"%d, \",A[i]);\n",
    "    }\n",
    "    printf(\"%d.\\n\\n\",A[i]);\n",
    "    \n",
    "    printf(\"Key: %d\\n\\n\",x);\n",
    "\n",
    "    index = linear_search(A,n,x);\n",
    "\n",
    "    if (index==-1) {\n",
    "      printf(\"The key was not found.\\n\");\n",
    "      return 0;\n",
    "    }\n",
    "\n",
    "    printf(\"The key was found at index %d.\\n\" , index);\n",
    "    free(A);\n",
    "    \n",
    "    return 0;\n",
    "}\n"
   ]
  },
  {
   "attachments": {},
   "cell_type": "markdown",
   "id": "140b6f3f",
   "metadata": {},
   "source": [
    "#### 2.1-5\n",
    "\n",
    "> Consider the problem of adding two $n$-bit binary integers $a$ and $b$, stored in two $n$-element arrays $A[0:n-1]$ and $B[0:n-1]$, where each element is either $0$ or $1$, $a=\\sum_{i=0}^{n-1}A[i]\\cdot 2^i$, and $b=\\sum_{i=0}^{n-1}B[i]\\cdot 2^i$. The sum $c=a+b$ of the two integers should be stored in binary form in an $(n+1)$-element array $C[0:n]$, where $c=\\sum_{i=0}^n C[i]\\cdot 2^i$. Write a procedure `ADD-BINARY-INTEGERS` that takes as input arrays $A$ and $B$, along with the length $n$, and returns array $C$ holding the sum."
   ]
  },
  {
   "attachments": {},
   "cell_type": "markdown",
   "id": "22ada861",
   "metadata": {},
   "source": [
    "We do standard addition with carrying.\n",
    "\n",
    ">     ADD-BINARY-INTEGERS(A,B,n)\n",
    ">     1.  Initialize C[0:n]\n",
    ">     2.  carry = 0\n",
    ">     3.    for i=0 to n-1\n",
    ">     4.      // We have to sum A[i]+B[i]+carry and update the carry. We can do it without addition\n",
    ">     5.      if A[i]=B[i] // A[i]+B[i] = 00 or 01 (little-endian); either way, C[i]=carry\n",
    ">     6.        C[i]=carry\n",
    ">     7.        // if A[i]=1, the result was 01, so carry = 1. Otherwise, carry = 0\n",
    ">     8.        carry = A[i]\n",
    ">     9.      else // A[i] and B[i]  are different: one is 0; other is 1\n",
    ">     10.       if carry=1 //A[i]+B[i]+carry=01\n",
    ">     11.         C[i]=0\n",
    ">     12.         // carry=1, no need to update\n",
    ">     13.       else // A[i]+B[i]+carry=10\n",
    ">     14.         C[i]=1\n",
    ">     15.         // carry=0, no need to update\n",
    ">     16. C[n]=carry\n",
    "\n",
    ".Implementation below. (An alternative would use a recursive version of addition: x+m is the successor of x+(m-1).)"
   ]
  },
  {
   "cell_type": "code",
   "execution_count": 38,
   "id": "f65289ab",
   "metadata": {
    "vscode": {
     "languageId": "c"
    }
   },
   "outputs": [
    {
     "name": "stdout",
     "output_type": "stream",
     "text": [
      " 0111110101\n",
      "+0101000011\n",
      " ___________\n",
      " 00010011101\n"
     ]
    }
   ],
   "source": [
    "#include <stdio.h>\n",
    "#include <time.h>\n",
    "\n",
    "void add_binary_integers(int *A, int *B, int *C, int n) {\n",
    "  int carry = 0;\n",
    "  for (int i = 0; i < n; i++) {\n",
    "    if (A[i] == B[i]) { // result will be 00 or 01 (little-endian); either way\n",
    "                        // C[i]=carry\n",
    "      C[i] = carry;\n",
    "      if (A[i] == 1) { // result was 01\n",
    "        carry = 1;\n",
    "      } else {\n",
    "        carry = 0;\n",
    "      }\n",
    "    } else {            // A[i] and B[i]  are different: one is 0; other is 1\n",
    "      if (carry == 1) { // A[i]+B[i]+along=01\n",
    "        C[i] = 0;\n",
    "      } else { // A[i]+B[i]+along=10\n",
    "        C[i] = 1;\n",
    "      }\n",
    "      // along=0, no need to update\n",
    "    }\n",
    "  }\n",
    "\n",
    "  C[n] = carry;\n",
    "  return;\n",
    "}\n",
    "\n",
    "int main() {\n",
    "  srand(time(NULL));\n",
    "  int n = 10;\n",
    "\n",
    "  // Initialize two n-sized 0-1 strings and their sum.\n",
    "  int A[n], B[n], C[n + 1];\n",
    "  for (int i = 0; i < n; i++) {\n",
    "    A[i] = rand() % 2;\n",
    "    B[i] = rand() % 2;\n",
    "  }\n",
    "\n",
    "  add_binary_integers(A,B,C,n);\n",
    "  \n",
    "  // Print the sum\n",
    "  printf(\" \");\n",
    "  for (int i = 0; i < n; i++) {\n",
    "    printf(\"%d\", A[i]);\n",
    "  }\n",
    "  printf(\"\\n+\");\n",
    "  for (int i = 0; i < n; i++) {\n",
    "    printf(\"%d\", B[i]);\n",
    "  }\n",
    "  printf(\"\\n \");\n",
    "  for (int i = 0; i < n + 1; i++) {\n",
    "    printf(\"_\");\n",
    "  }\n",
    "  printf(\"\\n \");\n",
    "\n",
    "  for (int i = 0; i < n + 1; i++) {\n",
    "    printf(\"%d\", C[i]);\n",
    "  }\n",
    "  printf(\"\\n\");\n",
    "\n",
    "  return 0;\n",
    "}"
   ]
  },
  {
   "attachments": {},
   "cell_type": "markdown",
   "id": "3e3dc793",
   "metadata": {},
   "source": [
    "### 2.2 Analyzing algorithms"
   ]
  },
  {
   "cell_type": "markdown",
   "id": "0535f687",
   "metadata": {},
   "source": [
    "#### 2.2-1\n",
    "\n",
    "> Express the function $n^3/1000 + 100n^2 - 100n +3$ in terms of $\\Theta$-notation."
   ]
  },
  {
   "attachments": {},
   "cell_type": "markdown",
   "id": "9f1ee558",
   "metadata": {},
   "source": [
    "$\\Theta(n^3)$."
   ]
  },
  {
   "attachments": {},
   "cell_type": "markdown",
   "id": "9900e0c4",
   "metadata": {},
   "source": [
    "#### 2.2-2\n",
    "\n",
    "> Consider sorting $n$ numbers stored in array $A[1:n]$ by first finding the smallest element of $A[1:n]$ and exchanging it with the element in $A[1]$. Then find the smallest element of $A[2:n]$, and exchange it with $A[2]$. Then find the smallest element of $A[3:n]$, and exchange it with $A[3]$. Continue in this manner for the first $n-1$ elements of $A$. Write pseudocode for this algorithm, which is known as ***selection sort***. What loop invariant does this algorithm maintain? Why does it need  to run for only the first $n-1$ elements, rather than for all $n$ elements? Give the worst-case running times of selection sort in $\\Theta$-notation. Is the best-case running time any better?"
   ]
  },
  {
   "attachments": {},
   "cell_type": "markdown",
   "id": "fea62215",
   "metadata": {},
   "source": [
    "(We ignore individual line cost)\n",
    "\n",
    "    SELECTION-SORT(A)                             Times ran\n",
    "    1.  for j=1 to n-1                            n\n",
    "    2.    //Working with subarray A[j..]\n",
    "          //Need to find the smallest element\n",
    "    3.    min_index=j                             n-1\n",
    "    4.    for i=j+1 to n                          sum from j=1 to n-1 of (n-j+1)\n",
    "    5.      if A[i]<A[min_index]                  sum from j=1 to n-1 of (n-j)\n",
    "    6.          min_index=i                       sum from j=1 to n-1 of\n",
    "                                                  sum from i=j+1 to n of\n",
    "                                                  0 or 1\n",
    "    7.    Swap A[j] and A[min_index]              n-1\n",
    "\n",
    "The cost changes accordingly to how many times each line is ran. Line 6 has a (possibly) quadratic cost, whereas the other lines have a linear or constant cost\n",
    "\n",
    "Best case for line 6: 0\n",
    "Worst case for line 6: sum from j=1 to n-1 of (n-j) = (n-1)n/2\n",
    "\n",
    "Line 6. is the only one that has any variation, so it will be the one that controls the best- and worst- case cenarios. In both the best and worst case, the quadratic terms in lines 4. and 5. will control the order of growth, which in any case will be quadratic, that is, Theta(n^2).\n",
    "\n",
    "- **Loop invariant**: At the start of the $j$-th iteration, the $j-1$ smallest elements of $A$ appear sorted in the $j-1$ first entries of $A$.\n",
    "\n",
    "It needs only to run up to $j=n-1$ because, as the loop invariant states, at its end the $n-1$ smallest elements of $A$ will appear sorted in the first $n-1$ first entries of $A$. The remaining element will appear in the $n$-th entry of $A$, and it will not be any of the $n-1$ smallest ones, so it will necessarily be the $n$-th smallest one, i.e., the largest element of $A$. This clearly makes it so that $A$ is already sorted.\n",
    "\n",
    "As previously noted, both the best- and worst-case cenarios have quadratic cost."
   ]
  }
 ],
 "metadata": {
  "kernelspec": {
   "display_name": "C",
   "language": "c",
   "name": "c"
  },
  "language_info": {
   "file_extension": ".c",
   "mimetype": "text/x-csrc",
   "name": "text/x-csrc"
  }
 },
 "nbformat": 4,
 "nbformat_minor": 5
}
