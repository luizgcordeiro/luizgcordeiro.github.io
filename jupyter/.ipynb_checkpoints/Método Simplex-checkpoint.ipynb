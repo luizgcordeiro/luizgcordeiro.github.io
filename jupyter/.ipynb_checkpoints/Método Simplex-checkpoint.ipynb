{
 "cells": [
  {
   "cell_type": "markdown",
   "id": "1cd51266",
   "metadata": {},
   "source": [
    "# Implementação e uso do Método Simplex"
   ]
  },
  {
   "cell_type": "markdown",
   "id": "9a2701f3",
   "metadata": {},
   "source": [
    "## Nome: Luiz Gustavo Cordeiro"
   ]
  },
  {
   "cell_type": "markdown",
   "id": "95b01217",
   "metadata": {},
   "source": [
    "Neste trabalho, implementamos o Método Simplex conforme a referência. A biblioteca numpy é utilizada para lidar com matrizes."
   ]
  },
  {
   "cell_type": "code",
   "execution_count": 1,
   "id": "741866b5",
   "metadata": {},
   "outputs": [],
   "source": [
    "import numpy as np"
   ]
  },
  {
   "cell_type": "code",
   "execution_count": 2,
   "id": "44a344b4",
   "metadata": {},
   "outputs": [],
   "source": [
    "def simplex(A,b,c,max_iter=500):\n",
    "    '''\n",
    "    Resolve um problema linear do tipo\n",
    "      maximizar c^t*x\n",
    "      sujeito a\n",
    "      Ax<=b e x>=0\n",
    "    pelo Método Simplex.\n",
    "    \n",
    "    Input:\n",
    "    A : Numpy array de ordem m x n.\n",
    "    b : Numpy array de ordem m.\n",
    "    c : Numpy array de ordem n.\n",
    "    max_iter (opcional) : Número máximo de iterações (máximo 500).\n",
    "    \n",
    "    Output:\n",
    "    x : Numpy array de ordem n. Solução para o problema linear.\n",
    "    '''\n",
    "    \n",
    "    m,n=np.shape(A)\n",
    "        # Ordem de A\n",
    "    R=np.concatenate([A,np.identity(m),np.reshape(b,(m,1))],axis=1)\n",
    "        # Matriz aumentada\n",
    "    x=np.concatenate([np.zeros(n),b],axis=None)\n",
    "        # Vetor solução aumentado\n",
    "    objective_vector=np.concatenate([c,np.zeros(m),[0]],axis=None)\n",
    "        # Vetor objetivo aumentado\n",
    "    non_basic_variables=list(range(n))\n",
    "        # Lista de índices de variáveis não-básicas\n",
    "        # Sempre têm valor 0\n",
    "    basic_variables = list(range(n,n+m))\n",
    "        # Lista de variáveis básicas\n",
    "        # Por construção, a i-ésima variável básica (basic_variables[i])\n",
    "        # é a variável básica que aparece na i-ésima equação\n",
    "        # (codificada na linha R[i,:] da matriz aumentada)\n",
    "    \n",
    "    num_iter=0\n",
    "        # Número de iterações já realizadas\n",
    "    \n",
    "    # Determinar a variável básica de entrada\n",
    "    # Toma a que tem maior peso no vetor objetivo\n",
    "    entering = 0\n",
    "    value_entering = objective_vector[non_basic_variables[entering]]\n",
    "    for i in range(1,n):\n",
    "        if objective_vector[non_basic_variables[i]]>value_entering:\n",
    "            entering = i\n",
    "            value_entering = objective_vector[non_basic_variables[entering]]\n",
    "    \n",
    "    while num_iter<=max_iter and value_entering>2**-10:\n",
    "        # Teste da razão mínima\n",
    "        lower_bound=-np.inf\n",
    "        upper_bound=np.inf\n",
    "        \n",
    "        # Roda em todas as equações\n",
    "        # Lembre-se que as variáveis não-basicas têm valor 0, e\n",
    "        # que somente a i-ésima variável básica aparece na i-ésima equação\n",
    "        # e que o seu coeficiente é 1\n",
    "        for i in range(m):\n",
    "            al = R[i,non_basic_variables[entering]]\n",
    "                # Coeficiente da variável de entrada\n",
    "            ga = R[i,-1]\n",
    "                # Termo independente da equação\n",
    "                \n",
    "            # A i-ésima equação se reduz a\n",
    "            #   al*<variavel de entrada>+<variavel basica> = ga\n",
    "            #   0 <= <variavel basica> = ga-al*<variavel de entrada>\n",
    "            #   al*<variavel de entrada> <= ga\n",
    "            # Tem que separar em alguns casos\n",
    "            if al>=0 and ga<0:\n",
    "                print(\"Problema sem solucao.\")\n",
    "                return None\n",
    "            if al==0: #e ga>=0\n",
    "                #Condição supérflua: 0<= ga\n",
    "                continue\n",
    "            if al<0:\n",
    "                # <variavel de entrada> >=ga/al\n",
    "                lower_bound=ga/al\n",
    "                continue\n",
    "            \n",
    "            # Se chegou até aqui, <variavel de entrada> >=ga/al\n",
    "            if ga/al<upper_bound:\n",
    "                leaving = i\n",
    "                upper_bound=ga/al\n",
    "                \n",
    "        # Verifica se os limites da variável de entrada são consistentes \n",
    "        if upper_bound<lower_bound:\n",
    "            print(\"Problema sem solucao.\")\n",
    "            return None\n",
    "        \n",
    "        # O problema pode ser ilimitado\n",
    "        if upper_bound==np.inf:\n",
    "            print(\"Problema ilimitado. O valor a ser maximizado e\")\n",
    "            temp=\"\"\n",
    "            for i in range(n):\n",
    "                temp += f\"({d[i]})*x[{i}])\"\n",
    "            print(temp)\n",
    "            print(\"Basta tomar\")\n",
    "            for i in range(n):\n",
    "                if i!=non_basic_variables[entering]:\n",
    "                    print(f\"x[{i}]={x[i]}\")\n",
    "            \n",
    "            print(f\"e x[{non_basic_variables[entering]}] arbitrariamente grande.\")\n",
    "        \n",
    "        # O problema é limitado\n",
    "        x[non_basic_variables[entering]]=upper_bound\n",
    "\n",
    "        # Atualiza os valores das outras variáveis\n",
    "        # Apenas as básicas vão ter seus valores modificados\n",
    "        # As não-básicas continuam valendo zero\n",
    "        # x[basic_variables[leaving]]=0 é considerado no loop abaixo\n",
    "        for i in range(m):\n",
    "            # A i-ésima equação é dada na i-ésima linha da matriz R\n",
    "            # Ao aumentar o valor da i-ésima variável não-básica, devemos diminuir\n",
    "            # o valor correspondente da variável básica que aparece nessa equação.\n",
    "            x[basic_variables[i]]-=R[i,non_basic_variables[entering]]*upper_bound\n",
    "\n",
    "        # Primeiro, normalizar o coeficiente da nova variável básica na equação em\n",
    "        # que ela aparece\n",
    "        R[leaving,:]/=R[leaving,non_basic_variables[entering]]\n",
    "        # Eliminação Gaussiana para remover a variável básica de entrada das equações,\n",
    "        # exceto a que tem a variável básica de saída.\n",
    "        for i in range(m):\n",
    "            if i!=leaving:\n",
    "                R[i,:] -= R[i,non_basic_variables[entering]]*R[leaving,:]\n",
    "                \n",
    "        # Atualiza também o vetor objetivo\n",
    "        objective_vector -= objective_vector[non_basic_variables[entering]]*R[leaving,:]\n",
    "        \n",
    "        # Troca a variável básica de saída com a de entrada\n",
    "        temp = non_basic_variables[entering]\n",
    "        non_basic_variables[entering] = basic_variables[leaving]\n",
    "        basic_variables[leaving]=temp\n",
    "        \n",
    "        # Terminamos mais uma iteração\n",
    "        num_iter+=1\n",
    "        \n",
    "        # Atualiza a variável básica de entrada\n",
    "        # Toma a que tem maior peso no vetor objetivo\n",
    "        entering = 0\n",
    "        value_entering = objective_vector[non_basic_variables[entering]]\n",
    "        for i in range(1,n):\n",
    "            if objective_vector[non_basic_variables[i]]>value_entering:\n",
    "                entering = i\n",
    "                value_entering = objective_vector[non_basic_variables[entering]]\n",
    "    return x"
   ]
  },
  {
   "cell_type": "markdown",
   "id": "7373ceaa",
   "metadata": {},
   "source": [
    "## Aplicação 1: Modelo de produção Wyndor Glass Co. (Seção 3.1)"
   ]
  },
  {
   "cell_type": "markdown",
   "id": "59eb0ff6",
   "metadata": {},
   "source": [
    "O problema da seção 3.1 da referência é\n",
    "\\begin{equation*}\\text{Maximizar }Z=3x_1+5x_2\\end{equation*}\n",
    "sujeito as restrições\n",
    "\\begin{equation*}\\begin{array}{ccccc}x_1&&&\\leq&4\\\\&&2x_2&\\leq&12\\\\3x_1&+&2x_2&\\leq&18\\end{array}.\\end{equation*}"
   ]
  },
  {
   "cell_type": "markdown",
   "id": "7a68cd93",
   "metadata": {},
   "source": [
    "Para implementar este problema no nosso algoritmo, basta utilizar $c=(3,5)$, $A=\\begin{bmatrix}1&0\\\\0&2\\\\3&2\\end{bmatrix}$ e $b=(4,12,18)$."
   ]
  },
  {
   "cell_type": "markdown",
   "id": "6a54be34",
   "metadata": {},
   "source": [
    "Conforme discutido no livro, a solução deste problema é $(x_1,x_2)=(2,6)$. Aplicando no nosso caso, obtemos"
   ]
  },
  {
   "cell_type": "code",
   "execution_count": 3,
   "id": "e6574c0e",
   "metadata": {},
   "outputs": [
    {
     "name": "stdout",
     "output_type": "stream",
     "text": [
      "[2. 6. 2. 0. 0.]\n"
     ]
    }
   ],
   "source": [
    "A=np.array([[1,0],[0,2],[3,2]]).astype(float)\n",
    "b=np.array([4,12,18]).astype(float)\n",
    "c=np.array([3,5]).astype(float)\n",
    "print(simplex(A,b,c))"
   ]
  },
  {
   "cell_type": "markdown",
   "id": "73d52520",
   "metadata": {},
   "source": [
    "exatamente como gostaríamos. Isto indica a corretude do nosso código."
   ]
  },
  {
   "cell_type": "markdown",
   "id": "b0430c15",
   "metadata": {},
   "source": [
    "## Aplicação 2: Confederação Meridional de Kibutzim"
   ]
  },
  {
   "cell_type": "markdown",
   "id": "bda9f7b1",
   "metadata": {},
   "source": [
    "Este exempo é detalhado na p. 46 da referência:"
   ]
  },
  {
   "cell_type": "markdown",
   "id": "90f39700",
   "metadata": {},
   "source": [
    "Maximizar\n",
    "\\begin{equation*}1000(x_1+x_2+x_3) + 750(x_4+x_5+x_6)+250(x_7+x_8+x_9)\\end{equation*}\n",
    "sujeito às restrições\n",
    "\\begin{equation*}\\begin{array}{ccccccc}\n",
    "x_1&+&x_4&+&x_7&\\leq&400\\\\\n",
    "x_2&+&x_5&+&x_8&\\leq&600\\\\\n",
    "x_3&+&x_6&+&x_9&\\leq&300\\\\\n",
    "3x_1&+&2x_4&+&x_7&\\leq&600\\\\\n",
    "3x_2&+&2x_5&+&x_8&\\leq&800\\\\\n",
    "3x_3&+&2x_6&+&x_9&\\leq&375\\\\\n",
    "x_1&+&x_2&+&x_3&\\leq&600\\\\\n",
    "x_4&+&x_5&+&x_6&\\leq&500\\\\\n",
    "x_7&+&x_8&+&x_9&\\leq&325\\end{array}\\end{equation*}"
   ]
  },
  {
   "cell_type": "markdown",
   "id": "d5bd7f09",
   "metadata": {},
   "source": [
    "\\begin{equation*}\\begin{array}{cccccccccccccccccc}\n",
    "3x_1&-&2x_2&&&+&3x_4&-&2x_5&&&+&3x_7&-&2x_8&&&=&0\\\\\n",
    "&&x_2&-&2x_3&&&+&x_5&-&2x_6&&&+&x_8&-&2x_9&=&0\\\\\n",
    "-3x_1&&&+&4x_3&-&3x_4&&&+&4x_6&-&3x_7&&&+&4x_9&=&0\\end{array}\\end{equation*}"
   ]
  },
  {
   "cell_type": "markdown",
   "id": "a2e788fa",
   "metadata": {},
   "source": [
    "e $x_i\\geq 0$."
   ]
  },
  {
   "cell_type": "markdown",
   "id": "08164df9",
   "metadata": {},
   "source": [
    "Vamos inicializar o problema."
   ]
  },
  {
   "cell_type": "code",
   "execution_count": 4,
   "id": "74041faf",
   "metadata": {},
   "outputs": [],
   "source": [
    "c=np.array([1000,1000,1000,750,750,750,250,250,250]).astype(float)\n",
    "A=np.array([\\\n",
    "            [1,0,0,1,0,0,1,0,0],\\\n",
    "            [0,1,0,0,1,0,0,1,0],\\\n",
    "            [0,0,1,0,0,1,0,0,1],\\\n",
    "            [3,0,0,2,0,0,1,0,0],\\\n",
    "            [0,3,0,0,2,0,0,1,0],\\\n",
    "            [0,0,3,0,0,2,0,0,1],\\\n",
    "            [1,1,1,0,0,0,0,0,0],\\\n",
    "            [0,0,0,1,1,1,0,0,0],\\\n",
    "            [0,0,0,0,0,0,1,1,1],\\\n",
    "            [3,-2,0,3,-2,0,3,-2,0],\\\n",
    "            [0,1,-2,0,1,-2,0,1,-2],\\\n",
    "            [-3,0,4,-3,0,4,-3,0,4]\n",
    "           ]).astype(float)\n",
    "b=np.array([400,600,300,600,800,375,600,500,325,0,0,0]).astype(float)"
   ]
  },
  {
   "cell_type": "markdown",
   "id": "7f17430c",
   "metadata": {},
   "source": [
    "Para as igualdades, utilizamos o método do $M$ grande, conforme explicado no livro. Começamos com o problema de maximizar $Z=\\sum_i d_ix_i$. Para cada igualdade do tipo\n",
    "\\begin{equation*}\n",
    "\\sum_i \\alpha_i x_i=\\beta,\n",
    "\\end{equation*}\n",
    "adicionamos uma nova variável $\\widetilde{x}=\\beta-\\sum_i \\alpha_i x_i$ (que será uma das variáveis de folga do método) e alteramos o problema de maximização para\n",
    "\\begin{equation*}\\text{maximizar }Z=\\sum_i d_i x_i - M\\widetilde{x}=\\sum_i(d_i+M\\alpha_i)x_i -M\\beta\\end{equation*}"
   ]
  },
  {
   "cell_type": "markdown",
   "id": "543b5129",
   "metadata": {},
   "source": [
    "Deste modo, precisamos atualizar o vetor objetivo (o fator $M\\beta$ pode ser ignorado)."
   ]
  },
  {
   "cell_type": "code",
   "execution_count": 5,
   "id": "ece2919b",
   "metadata": {},
   "outputs": [],
   "source": [
    "M=1_000_000\n",
    "for i in range(1,4): # Para i=1,2,3\n",
    "    c+=M*A[-i]"
   ]
  },
  {
   "cell_type": "markdown",
   "id": "f69bef55",
   "metadata": {},
   "source": [
    "Basta rodar o código."
   ]
  },
  {
   "cell_type": "code",
   "execution_count": 6,
   "id": "c055c292",
   "metadata": {},
   "outputs": [
    {
     "name": "stdout",
     "output_type": "stream",
     "text": [
      "[133.33333333 100.          25.         100.         250.\n",
      " 150.           0.           0.           0.        ]\n"
     ]
    }
   ],
   "source": [
    "print(simplex(A,b,c)[:9])"
   ]
  },
  {
   "cell_type": "markdown",
   "id": "37262f58",
   "metadata": {},
   "source": [
    "o que coincide exatamente com o mencionado no início da página 48."
   ]
  }
 ],
 "metadata": {
  "kernelspec": {
   "display_name": "Python 3 (ipykernel)",
   "language": "python",
   "name": "python3"
  },
  "language_info": {
   "codemirror_mode": {
    "name": "ipython",
    "version": 3
   },
   "file_extension": ".py",
   "mimetype": "text/x-python",
   "name": "python",
   "nbconvert_exporter": "python",
   "pygments_lexer": "ipython3",
   "version": "3.10.4"
  }
 },
 "nbformat": 4,
 "nbformat_minor": 5
}
